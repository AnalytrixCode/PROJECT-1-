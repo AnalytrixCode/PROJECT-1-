{
 "metadata": {
  "language_info": {
   "codemirror_mode": {
    "name": "ipython",
    "version": 3
   },
   "file_extension": ".py",
   "mimetype": "text/x-python",
   "name": "python",
   "nbconvert_exporter": "python",
   "pygments_lexer": "ipython3",
   "version": "3.6.10-final"
  },
  "orig_nbformat": 2,
  "kernelspec": {
   "name": "python_defaultSpec_1598123472718",
   "display_name": "Python 3.6.10 64-bit ('PythonData': conda)"
  }
 },
 "nbformat": 4,
 "nbformat_minor": 2,
 "cells": [
  {
   "cell_type": "code",
   "execution_count": 83,
   "metadata": {},
   "outputs": [],
   "source": [
    "import pandas as pd\n",
    "import os\n",
    "import matplotlib.pyplot as plt\n",
    "import scipy.stats as st\n",
    "from scipy.stats import linregress\n",
    "import numpy as np\n",
    "from opendata_key import g_key\n",
    "from opendata_key import gp_key\n",
    "from opendata_key import client_id\n",
    "from opendata_key import loc_id \n",
    "import requests\n",
    "import gmaps\n",
    "import time"
   ]
  },
  {
   "cell_type": "code",
   "execution_count": 86,
   "metadata": {},
   "outputs": [
    {
     "output_type": "execute_result",
     "data": {
      "text/plain": "{'code': 1054, 'message': \"Unknown column '' in 'field list'\"}"
     },
     "metadata": {},
     "execution_count": 86
    }
   ],
   "source": [
    "base_url = \"https://www.gunpolicy.org/index.php\"\n",
    "params = {\n",
    "    'option': 'com_api',\n",
    "    'app': 'gpodatapage',\n",
    "    'clientid': client_id,\n",
    "    'key': gp_key,\n",
    "    'format': 'row',\n",
    "    'resource': 'getcategorydata',\n",
    "    'Category': 'Death & Injury',\n",
    "    'location_id': loc_id,\n",
    "    # 'Alias name': 'gun_death_and_injury',\n",
    "# 'category': 'civilian_guns',\n",
    "}\n",
    "# Death & Injury\n",
    "# gun_death_and_injury\n",
    "resp = requests.get(base_url, params = params).json()\n",
    "resp"
   ]
  },
  {
   "cell_type": "code",
   "execution_count": null,
   "metadata": {},
   "outputs": [],
   "source": [
    "resp['result']['columnValue']"
   ]
  },
  {
   "cell_type": "code",
   "execution_count": null,
   "metadata": {},
   "outputs": [],
   "source": [
    "pd.json_normalize(resp['result']['columnValue'])"
   ]
  },
  {
   "cell_type": "code",
   "execution_count": null,
   "metadata": {},
   "outputs": [],
   "source": []
  }
 ]
}