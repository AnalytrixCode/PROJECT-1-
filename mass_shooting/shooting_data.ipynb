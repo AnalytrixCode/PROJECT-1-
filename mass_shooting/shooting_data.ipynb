{
 "metadata": {
  "language_info": {
   "codemirror_mode": {
    "name": "ipython",
    "version": 3
   },
   "file_extension": ".py",
   "mimetype": "text/x-python",
   "name": "python",
   "nbconvert_exporter": "python",
   "pygments_lexer": "ipython3",
   "version": "3.6.10-final"
  },
  "orig_nbformat": 2,
  "kernelspec": {
   "name": "python_defaultSpec_1598217366325",
   "display_name": "Python 3.6.10 64-bit ('PythonData': conda)"
  }
 },
 "nbformat": 4,
 "nbformat_minor": 2,
 "cells": [
  {
   "cell_type": "code",
   "execution_count": 1,
   "metadata": {},
   "outputs": [],
   "source": [
    "import pandas as pd\n",
    "import os\n",
    "import matplotlib.pyplot as plt\n",
    "import scipy.stats as st\n",
    "from scipy.stats import linregress\n",
    "import numpy as np\n",
    "from opendata_key import g_key\n",
    "from opendata_key import gp_key\n",
    "from opendata_key import client_id\n",
    "from opendata_key import loc_id \n",
    "import requests\n",
    "import gmaps\n",
    "import time"
   ]
  },
  {
   "cell_type": "code",
   "execution_count": 20,
   "metadata": {},
   "outputs": [
    {
     "output_type": "execute_result",
     "data": {
      "text/plain": "{'result': {'id': '242',\n  'location_id': '194',\n  'location': 'United States',\n  'columnValue': '',\n  'columnPreamble': ''}}"
     },
     "metadata": {},
     "execution_count": 20
    }
   ],
   "source": [
    "base_url = \"https://www.gunpolicy.org/index.php\"\n",
    "params = {\n",
    "    'option': 'com_api',\n",
    "    'app': 'gpodatapage',\n",
    "    'clientid': client_id,\n",
    "    'key': gp_key,\n",
    "    'format': 'row',\n",
    "    'resource': 'getcategorydata',\n",
    "    'category': 'civilian_guns',\n",
    "    'location_id': loc_id,\n",
    "    #  'location_id': 242,\n",
    "    # 'Alias name': 'gun_death_and_injury',\n",
    "# 'category': 'civilian_guns',\n",
    "# getcategorydata\n",
    "# getdpcategories\n",
    "}\n",
    " \t# getcitationsbycategory\n",
    "# Death & Injury\n",
    "# getlocations\n",
    "# gun_death_and_injury\n",
    "resp = requests.get(base_url, params = params).json()\n",
    "resp"
   ]
  },
  {
   "cell_type": "code",
   "execution_count": 21,
   "metadata": {},
   "outputs": [
    {
     "output_type": "execute_result",
     "data": {
      "text/plain": "    id location_id       location columnValue columnPreamble\n0  242         194  United States                           ",
      "text/html": "<div>\n<style scoped>\n    .dataframe tbody tr th:only-of-type {\n        vertical-align: middle;\n    }\n\n    .dataframe tbody tr th {\n        vertical-align: top;\n    }\n\n    .dataframe thead th {\n        text-align: right;\n    }\n</style>\n<table border=\"1\" class=\"dataframe\">\n  <thead>\n    <tr style=\"text-align: right;\">\n      <th></th>\n      <th>id</th>\n      <th>location_id</th>\n      <th>location</th>\n      <th>columnValue</th>\n      <th>columnPreamble</th>\n    </tr>\n  </thead>\n  <tbody>\n    <tr>\n      <th>0</th>\n      <td>242</td>\n      <td>194</td>\n      <td>United States</td>\n      <td></td>\n      <td></td>\n    </tr>\n  </tbody>\n</table>\n</div>"
     },
     "metadata": {},
     "execution_count": 21
    }
   ],
   "source": [
    "pd.json_normalize(resp['result'])"
   ]
  },
  {
   "cell_type": "code",
   "execution_count": null,
   "metadata": {},
   "outputs": [],
   "source": [
    "pd.json_normalize(resp['result']['columnValue'])"
   ]
  },
  {
   "cell_type": "code",
   "execution_count": null,
   "metadata": {},
   "outputs": [],
   "source": []
  }
 ]
}