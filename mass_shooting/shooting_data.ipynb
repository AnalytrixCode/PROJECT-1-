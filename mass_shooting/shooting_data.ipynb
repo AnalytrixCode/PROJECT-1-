{
 "metadata": {
  "language_info": {
   "codemirror_mode": {
    "name": "ipython",
    "version": 3
   },
   "file_extension": ".py",
   "mimetype": "text/x-python",
   "name": "python",
   "nbconvert_exporter": "python",
   "pygments_lexer": "ipython3",
   "version": "3.6.10-final"
  },
  "orig_nbformat": 2,
  "kernelspec": {
   "name": "python_defaultSpec_1598123472718",
   "display_name": "Python 3.6.10 64-bit ('PythonData': conda)"
  }
 },
 "nbformat": 4,
 "nbformat_minor": 2,
 "cells": [
  {
   "cell_type": "code",
   "execution_count": 62,
   "metadata": {},
   "outputs": [],
   "source": [
    "import pandas as pd\n",
    "import os\n",
    "import matplotlib.pyplot as plt\n",
    "import scipy.stats as st\n",
    "from scipy.stats import linregress\n",
    "import numpy as np\n",
    "from opendata_key import g_key\n",
    "from opendata_key import gp_key\n",
    "from opendata_key import client_id\n",
    "from opendata_key import loc_id \n",
    "import requests\n",
    "import gmaps\n",
    "import time"
   ]
  },
  {
   "cell_type": "code",
   "execution_count": 63,
   "metadata": {},
   "outputs": [
    {
     "output_type": "error",
     "ename": "SyntaxError",
     "evalue": "invalid syntax (<ipython-input-63-672be738dd70>, line 8)",
     "traceback": [
      "\u001b[1;36m  File \u001b[1;32m\"<ipython-input-63-672be738dd70>\"\u001b[1;36m, line \u001b[1;32m8\u001b[0m\n\u001b[1;33m    'location_id': loc_id,\u001b[0m\n\u001b[1;37m                 ^\u001b[0m\n\u001b[1;31mSyntaxError\u001b[0m\u001b[1;31m:\u001b[0m invalid syntax\n"
     ]
    }
   ],
   "source": [
    "base_url = \"https://www.gunpolicy.org/index.php\"\n",
    "params = {'key': gp_key,\n",
    "'clientid': client_id,\n",
    "'option': 'com_api',\n",
    "'app': 'gpodatapage',\n",
    "'format': 'row',\n",
    "'resource': 'gettopcategories'\n",
    "'location_id': loc_id,\n",
    "'category': 'Death & Injury',\n",
    "# 'category': 'gun_death_and_injury',\n",
    "}\n",
    "\n",
    "resp = requests.get(base_url, params = params).json()\n",
    "resp"
   ]
  },
  {
   "cell_type": "code",
   "execution_count": null,
   "metadata": {},
   "outputs": [],
   "source": [
    "resp['result']['columnValue']"
   ]
  },
  {
   "cell_type": "code",
   "execution_count": null,
   "metadata": {},
   "outputs": [],
   "source": [
    "pd.json_normalize(resp['result']['columnValue'])"
   ]
  },
  {
   "cell_type": "code",
   "execution_count": null,
   "metadata": {},
   "outputs": [],
   "source": []
  }
 ]
}