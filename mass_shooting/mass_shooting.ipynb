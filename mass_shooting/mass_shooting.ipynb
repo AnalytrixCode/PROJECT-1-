{
 "cells": [
  {
   "cell_type": "code",
   "execution_count": 1,
   "metadata": {},
   "outputs": [],
   "source": [
    "import pandas as pd\n",
    "import os\n",
    "import matplotlib.pyplot as plt\n",
    "import scipy.stats as st\n",
    "from scipy.stats import linregress\n",
    "import numpy as np\n",
    "from opendata_key import g_key\n",
    "from opendata_key import open_key \n",
    "import requests\n",
    "import gmaps\n",
    "import time\n"
   ]
  },
  {
   "cell_type": "code",
   "execution_count": 41,
   "metadata": {},
   "outputs": [
    {
     "output_type": "execute_result",
     "data": {
      "text/plain": "'a4fc11a47e3ef30dc98115f546507e859621d12c4ca460ff1acfa357'"
     },
     "metadata": {},
     "execution_count": 41
    }
   ],
   "source": [
    "open_key"
   ]
  },
  {
   "cell_type": "code",
   "execution_count": 2,
   "metadata": {},
   "outputs": [
    {
     "output_type": "execute_result",
     "data": {
      "text/plain": "{'error': 'Unknown dataset: mass-shootings-in-america'}"
     },
     "metadata": {},
     "execution_count": 2
    }
   ],
   "source": [
    "base_url = \"https://public.opendatasoft.com/api/records/1.0/search\"\n",
    "params = {'api_key': open_key,\n",
    "'dataset': 'mass-shootings-in-america',\n",
    "'facet': 'city',\n",
    "'facet': 'state',\n",
    "'facet': 'type_of_gun_general',\n",
    "'facet': 'place_type',\n",
    "'facet': 'possible_motive_general',\n",
    "'facet': 'history_of_mental_illness_general'\n",
    "}\n",
    "\n",
    "\n",
    "resp = requests.get(base_url, params = params)\n",
    "resp.json()"
   ]
  },
  {
   "cell_type": "code",
   "execution_count": null,
   "metadata": {},
   "outputs": [],
   "source": [
    "city_name = []\n",
    "city_name.append(resp['records']['fields']['city'][:])"
   ]
  },
  {
   "cell_type": "code",
   "execution_count": null,
   "metadata": {
    "tags": []
   },
   "outputs": [],
   "source": [
    "states = ['Texas', 'California']\n",
    "city_name = []\n",
    "lat = []\n",
    "lng = []\n",
    "state_name = []\n",
    "number_killed = []\n",
    "number_wounded = []\n",
    "type_of_gun = []\n",
    "date = []\n",
    "for state in states:\n",
    "# for item in range(0, len(resp['records'])):\n",
    "    resp = requests.get(base_url, params = params).json()\n",
    "    try:\n",
    "        # city_name.append(resp['fields'][0]['city'][:])\n",
    "        lat.append(resp['records']['fields'][0:]['latitude'])\n",
    "        # lng.append(resp['records']['fields']['longitude'])\n",
    "        # state_name.append(resp['records']['fields'][0:]['state'][:])\n",
    "        # number_killed.append(resp['records']['fields']['total_number_of_fatalities'])\n",
    "        # number_wounded.append(resp['records']['fields']['number_of_victims_injured'])\n",
    "        # type_of_gun.append(resp['records']['fields']['type_of_gun_detailed'][:])\n",
    "        # date.append(resp['records']['fields']['date'])\n",
    "        # country_id.append(resp['records']['fields']['city'])\n",
    "        # print(f\"Processing Record {counter_record} of set {counter_set} | {city}\")\n",
    "    except (KeyError, IndexError):\n",
    "        print(\"City not found. Skipping...\")\n",
    "print(lat)\n",
    "# print(state_name)"
   ]
  },
  {
   "cell_type": "code",
   "execution_count": null,
   "metadata": {},
   "outputs": [],
   "source": [
    "    \n",
    "    city_list = []\n",
    "for rec in response:\n",
    "    resp = requests.get(base_url, params = params)\n",
    "    response = resp.json()\n",
    "    city_list.append(response['records']['fields']['city'])\n"
   ]
  },
  {
   "cell_type": "code",
   "execution_count": null,
   "metadata": {},
   "outputs": [],
   "source": [
    "shooting_dic = {\n",
    "    'date': '',\n",
    "    'city': '',\n",
    "    # 'State': '',\n",
    "    # 'Latitude': '',\n",
    "    # 'Longitude': '',\n",
    "    # 'Number Killed': '',\n",
    "    # 'Number Wounded': '',\n",
    "    # 'Type of Gun': ''\n",
    "}\n",
    "\n",
    "for k, v in shooting_dic:\n",
    "    resp = requests.get(base_url, params = params)\n",
    "    response = resp.json()\n",
    "    shooting_dic['date'].append(response['records']['fields']['date'])"
   ]
  },
  {
   "cell_type": "code",
   "execution_count": null,
   "metadata": {},
   "outputs": [],
   "source": [
    "file_path = '../Resources/us_mass_shootings.csv'\n",
    "us_mass_shooting = pd.read_csv(file_path, skiprows=7)\n",
    "us_mass_shooting.head()"
   ]
  },
  {
   "cell_type": "code",
   "execution_count": null,
   "metadata": {},
   "outputs": [],
   "source": [
    "columns = ['Date', 'City', 'State', 'Latitude', 'Longitude', 'Number killed', 'Number wounded', 'Assault weapon OR high-capacity magazine']\n",
    "tx_vs_ca_df = us_mass_shooting.loc[(us_mass_shooting['State'] == 'TX')|(us_mass_shooting['State'] == 'CA'), columns]\n",
    "tx_vs_ca_df.head()"
   ]
  },
  {
   "cell_type": "code",
   "execution_count": null,
   "metadata": {},
   "outputs": [],
   "source": [
    "info_box_template = \"\"\"\n",
    "<dl>\n",
    "<dt>Date</dt><dd>{Date}</dd>\n",
    "<dt>City</dt><dd>{City}</dd>\n",
    "<dt>State</dt><dd>{State}</dd>\n",
    "</dl>\n",
    "\"\"\"\n",
    "gmaps.configure(api_key=g_key)\n",
    "figure_layout = {\n",
    "    'width': '400px',\n",
    "    'height': '420px',\n",
    "    'border': '1px solid black',\n",
    "    'padding': '1px'\n",
    "}\n",
    "gmaps.figure(center=(30.0, 31.0), zoom_level=2)\n",
    "city_info = [info_box_template.format(**row) for index, row in tx_vs_ca_df.iterrows()]\n",
    "locations = tx_vs_ca_df[[\"Latitude\", \"Longitude\"]]\n",
    "fig = gmaps.figure()\n",
    "marker_layer = gmaps.marker_layer(locations, info_box_content=city_info)\n",
    "fig.add_layer(marker_layer)\n",
    "fig"
   ]
  },
  {
   "cell_type": "code",
   "execution_count": null,
   "metadata": {},
   "outputs": [],
   "source": [
    "tx_df = us_mass_shooting.loc[us_mass_shooting['State'] == 'TX']\n",
    "tx_df.tail()"
   ]
  },
  {
   "cell_type": "code",
   "execution_count": null,
   "metadata": {},
   "outputs": [],
   "source": [
    "x_axis = tx_df['Date']                      \n",
    "y_axis = tx_df['Number killed']\n",
    "plt.bar(x_axis, y_axis)\n",
    "plt.xlabel('Years')\n",
    "plt.ylabel('Number of People Killed')\n",
    "plt.title('Texas Mass Shooting Last Ten Years')\n",
    "plt.show()"
   ]
  },
  {
   "cell_type": "code",
   "execution_count": null,
   "metadata": {},
   "outputs": [],
   "source": [
    "ca_df = us_mass_shooting.loc[us_mass_shooting['State'] == 'CA']\n",
    "ca_df.head()"
   ]
  },
  {
   "cell_type": "code",
   "execution_count": null,
   "metadata": {},
   "outputs": [],
   "source": [
    "x_axis = ca_df['Date']                      \n",
    "y_axis = ca_df['Number killed']\n",
    "plt.bar(x_axis, y_axis)\n",
    "plt.xlabel('Years')\n",
    "plt.ylabel('Number of People Killed')\n",
    "plt.title('California Mass Shooting Last Ten Years')\n",
    "plt.show()"
   ]
  },
  {
   "cell_type": "code",
   "execution_count": null,
   "metadata": {},
   "outputs": [],
   "source": [
    "state_comp = tx_vs_ca_df.loc[:, ['State', 'Number killed', 'Number wounded']]\n",
    "state_comp = state_comp.groupby('State').sum()\n",
    "\n",
    "state_comp"
   ]
  },
  {
   "cell_type": "code",
   "execution_count": null,
   "metadata": {},
   "outputs": [],
   "source": [
    "state_comp.plot.bar()\n",
    "plt.title('Texas vs California Mass Shooting Victims Last Ten Years')\n",
    "plt.xlabel('State')\n",
    "plt.ylabel('Total Number of People Killed and Wounded')\n",
    "plt.show()"
   ]
  },
  {
   "cell_type": "code",
   "execution_count": null,
   "metadata": {},
   "outputs": [],
   "source": []
  }
 ],
 "metadata": {
  "kernelspec": {
   "display_name": "Python 3.6.10 64-bit ('PythonData': conda)",
   "language": "python",
   "name": "python_defaultSpec_1598105441927"
  },
  "language_info": {
   "codemirror_mode": {
    "name": "ipython",
    "version": 3
   },
   "file_extension": ".py",
   "mimetype": "text/x-python",
   "name": "python",
   "nbconvert_exporter": "python",
   "pygments_lexer": "ipython3",
   "version": "3.6.10-final"
  }
 },
 "nbformat": 4,
 "nbformat_minor": 4
}