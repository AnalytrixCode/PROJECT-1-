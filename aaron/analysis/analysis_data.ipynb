{
 "cells": [
  {
   "cell_type": "code",
   "execution_count": 18,
   "metadata": {},
   "outputs": [
    {
     "output_type": "execute_result",
     "data": {
      "text/plain": "        State  Population 2010  Population 2011  Population 2012  \\\n0  California         37319502         37638369         37948800   \n1       Texas         25241971         25645629         26084481   \n\n   Population 2013  Population 2014  Population 2015  Population 2016  \\\n0         38260787         38596972         38918045         39167117   \n1         26480266         26964333         27470056         27914410   \n\n   Population 2017  Population 2018  Population 2019  \n0         39358497         39461588         39512223  \n1         28295273         28628666         28995881  ",
      "text/html": "<div>\n<style scoped>\n    .dataframe tbody tr th:only-of-type {\n        vertical-align: middle;\n    }\n\n    .dataframe tbody tr th {\n        vertical-align: top;\n    }\n\n    .dataframe thead th {\n        text-align: right;\n    }\n</style>\n<table border=\"1\" class=\"dataframe\">\n  <thead>\n    <tr style=\"text-align: right;\">\n      <th></th>\n      <th>State</th>\n      <th>Population 2010</th>\n      <th>Population 2011</th>\n      <th>Population 2012</th>\n      <th>Population 2013</th>\n      <th>Population 2014</th>\n      <th>Population 2015</th>\n      <th>Population 2016</th>\n      <th>Population 2017</th>\n      <th>Population 2018</th>\n      <th>Population 2019</th>\n    </tr>\n  </thead>\n  <tbody>\n    <tr>\n      <th>0</th>\n      <td>California</td>\n      <td>37319502</td>\n      <td>37638369</td>\n      <td>37948800</td>\n      <td>38260787</td>\n      <td>38596972</td>\n      <td>38918045</td>\n      <td>39167117</td>\n      <td>39358497</td>\n      <td>39461588</td>\n      <td>39512223</td>\n    </tr>\n    <tr>\n      <th>1</th>\n      <td>Texas</td>\n      <td>25241971</td>\n      <td>25645629</td>\n      <td>26084481</td>\n      <td>26480266</td>\n      <td>26964333</td>\n      <td>27470056</td>\n      <td>27914410</td>\n      <td>28295273</td>\n      <td>28628666</td>\n      <td>28995881</td>\n    </tr>\n  </tbody>\n</table>\n</div>"
     },
     "metadata": {},
     "execution_count": 18
    }
   ],
   "source": [
    "import pandas as pd\n",
    "import os\n",
    "import matplotlib.pyplot as plt\n",
    "import scipy.stats as st\n",
    "from scipy.stats import linregress\n",
    "import numpy as np\n",
    "\n",
    "pop_file_path = \"../population/data_set/pop_data.csv\"\n",
    "guns_file_path = \"../output_data/guns_state.csv\"\n",
    "pop_file_df = pd.read_csv(pop_file_path)\n",
    "guns_file_df = pd.read_csv(guns_file_path)\n",
    "pop_file_df\n",
    "# guns_file_df"
   ]
  },
  {
   "cell_type": "code",
   "execution_count": 19,
   "metadata": {},
   "outputs": [
    {
     "output_type": "execute_result",
     "data": {
      "text/plain": "      YEAR STATE  RATE  DEATHS\n0   2018.0    CA   7.5  3040.0\n1   2018.0    TX  12.2  3522.0\n2   2017.0    CA   7.9  3184.0\n3   2017.0    TX  12.4  3513.0\n4   2016.0    CA   7.9  3184.0\n5   2016.0    TX  12.1  3353.0\n6   2015.0    CA   7.7  3095.0\n7   2015.0    TX  11.7  3203.0\n8   2014.0    CA   7.4  2942.0\n9   2014.0    TX  10.7  2848.0\n10  2005.0    CA   9.5  3453.0\n11  2005.0    TX  11.1  2490.0",
      "text/html": "<div>\n<style scoped>\n    .dataframe tbody tr th:only-of-type {\n        vertical-align: middle;\n    }\n\n    .dataframe tbody tr th {\n        vertical-align: top;\n    }\n\n    .dataframe thead th {\n        text-align: right;\n    }\n</style>\n<table border=\"1\" class=\"dataframe\">\n  <thead>\n    <tr style=\"text-align: right;\">\n      <th></th>\n      <th>YEAR</th>\n      <th>STATE</th>\n      <th>RATE</th>\n      <th>DEATHS</th>\n    </tr>\n  </thead>\n  <tbody>\n    <tr>\n      <th>0</th>\n      <td>2018.0</td>\n      <td>CA</td>\n      <td>7.5</td>\n      <td>3040.0</td>\n    </tr>\n    <tr>\n      <th>1</th>\n      <td>2018.0</td>\n      <td>TX</td>\n      <td>12.2</td>\n      <td>3522.0</td>\n    </tr>\n    <tr>\n      <th>2</th>\n      <td>2017.0</td>\n      <td>CA</td>\n      <td>7.9</td>\n      <td>3184.0</td>\n    </tr>\n    <tr>\n      <th>3</th>\n      <td>2017.0</td>\n      <td>TX</td>\n      <td>12.4</td>\n      <td>3513.0</td>\n    </tr>\n    <tr>\n      <th>4</th>\n      <td>2016.0</td>\n      <td>CA</td>\n      <td>7.9</td>\n      <td>3184.0</td>\n    </tr>\n    <tr>\n      <th>5</th>\n      <td>2016.0</td>\n      <td>TX</td>\n      <td>12.1</td>\n      <td>3353.0</td>\n    </tr>\n    <tr>\n      <th>6</th>\n      <td>2015.0</td>\n      <td>CA</td>\n      <td>7.7</td>\n      <td>3095.0</td>\n    </tr>\n    <tr>\n      <th>7</th>\n      <td>2015.0</td>\n      <td>TX</td>\n      <td>11.7</td>\n      <td>3203.0</td>\n    </tr>\n    <tr>\n      <th>8</th>\n      <td>2014.0</td>\n      <td>CA</td>\n      <td>7.4</td>\n      <td>2942.0</td>\n    </tr>\n    <tr>\n      <th>9</th>\n      <td>2014.0</td>\n      <td>TX</td>\n      <td>10.7</td>\n      <td>2848.0</td>\n    </tr>\n    <tr>\n      <th>10</th>\n      <td>2005.0</td>\n      <td>CA</td>\n      <td>9.5</td>\n      <td>3453.0</td>\n    </tr>\n    <tr>\n      <th>11</th>\n      <td>2005.0</td>\n      <td>TX</td>\n      <td>11.1</td>\n      <td>2490.0</td>\n    </tr>\n  </tbody>\n</table>\n</div>"
     },
     "metadata": {},
     "execution_count": 19
    }
   ],
   "source": [
    "guns_file_df"
   ]
  },
  {
   "cell_type": "code",
   "execution_count": 22,
   "metadata": {},
   "outputs": [
    {
     "output_type": "execute_result",
     "data": {
      "text/plain": "        STATE      2014      2015      2016      2017      2018\n0  California  38596972  38918045  39167117  39358497  39461588\n1       Texas  26964333  27470056  27914410  28295273  28628666",
      "text/html": "<div>\n<style scoped>\n    .dataframe tbody tr th:only-of-type {\n        vertical-align: middle;\n    }\n\n    .dataframe tbody tr th {\n        vertical-align: top;\n    }\n\n    .dataframe thead th {\n        text-align: right;\n    }\n</style>\n<table border=\"1\" class=\"dataframe\">\n  <thead>\n    <tr style=\"text-align: right;\">\n      <th></th>\n      <th>STATE</th>\n      <th>2014</th>\n      <th>2015</th>\n      <th>2016</th>\n      <th>2017</th>\n      <th>2018</th>\n    </tr>\n  </thead>\n  <tbody>\n    <tr>\n      <th>0</th>\n      <td>California</td>\n      <td>38596972</td>\n      <td>38918045</td>\n      <td>39167117</td>\n      <td>39358497</td>\n      <td>39461588</td>\n    </tr>\n    <tr>\n      <th>1</th>\n      <td>Texas</td>\n      <td>26964333</td>\n      <td>27470056</td>\n      <td>27914410</td>\n      <td>28295273</td>\n      <td>28628666</td>\n    </tr>\n  </tbody>\n</table>\n</div>"
     },
     "metadata": {},
     "execution_count": 22
    }
   ],
   "source": [
    "pop_file_df = pop_file_df.loc[:, ['State', 'Population 2014', 'Population 2015', 'Population 2016', 'Population 2017', 'Population 2018']]\n",
    "pop_file = pop_file_df.rename(columns={'State': 'STATE', 'Population 2014': '2014', 'Population 2015': '2015', 'Population 2016': '2016', 'Population 2017': '2017', 'Population 2018': '2018'})\n",
    "pop_file\n"
   ]
  },
  {
   "cell_type": "code",
   "execution_count": null,
   "metadata": {},
   "outputs": [],
   "source": []
  }
 ],
 "metadata": {
  "kernelspec": {
   "name": "python_defaultSpec_1598107665599",
   "display_name": "Python 3.6.10 64-bit ('PythonData': conda)"
  }
 },
 "nbformat": 4,
 "nbformat_minor": 4
}