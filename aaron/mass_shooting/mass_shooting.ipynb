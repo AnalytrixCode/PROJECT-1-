{
 "cells": [
  {
   "cell_type": "markdown",
   "metadata": {},
   "source": [
    "http://wonder.cdc.gov/wonder/help/mcd.html#2014-Revision."
   ]
  },
  {
   "cell_type": "code",
   "execution_count": 78,
   "metadata": {},
   "outputs": [],
   "source": [
    "import pandas as pd\n",
    "import os\n",
    "import matplotlib.pyplot as plt\n",
    "import scipy.stats as st\n",
    "from scipy.stats import linregress\n",
    "import numpy as np\n",
    "from opendata_key import g_key\n",
    "from opendata_key import open_key \n",
    "import requests\n",
    "import gmaps\n",
    "import time\n"
   ]
  },
  {
   "cell_type": "code",
   "execution_count": null,
   "metadata": {},
   "outputs": [],
   "source": [
    "open_key"
   ]
  },
  {
   "cell_type": "code",
   "execution_count": 79,
   "metadata": {},
   "outputs": [
    {
     "output_type": "execute_result",
     "data": {
      "text/plain": "{'nhits': 100,\n 'parameters': {'dataset': 'us-mass-shootings-1982-2017',\n  'timezone': 'UTC',\n  'rows': 10,\n  'format': 'json',\n  'facet': ['preior_signs_of_mental_health_issues']},\n 'records': [{'datasetid': 'us-mass-shootings-1982-2017',\n   'recordid': '22ece442447f032a89ad562fa848b4e59cf4d098',\n   'fields': {'injured': 3,\n    'case': 'R.E. Phelon Company shooting',\n    'mental_health_details': 'An ex-con, he had been freed from prison, although he displayed violent tendencies.',\n    'race': 'Black',\n    'total_victims': 7,\n    'weapons_obtained_legally': 'No',\n    'venue': 'Workplace',\n    'type_of_weapons': 'One semiautomatic handgun',\n    'coordinates': [33.5598586, -81.721952],\n    'summary': 'Ex-con Hastings Arthur Wise, 43, opened fire at the R.E. Phelon Company in retaliation for being fired after an argument with a supervisor. He attempted suicide by ingesting insecticide, failed, and was executed by the state of South Carolina eight years later.',\n    'sources': 'http://www.vpc.org/studies/wgun970915.htm; http://chronicle.augusta.com/stories/1997/09/18/met_214833.shtml',\n    'state': 'SouthCarolina',\n    'mental_health_sources': 'http://chronicle.augusta.com/stories/1997/09/18/met_214833.shtml',\n    'prior_signs_of_mental_health_issues': 'No',\n    'location': 'Aiken',\n    'gender': 'Male',\n    'date': '1997-09-15',\n    'fatalities': 4,\n    'where_obtained': 'Unknown',\n    'type': 'Mass',\n    'weapon_details': '9mm semiautomatic handgun'},\n   'geometry': {'type': 'Point', 'coordinates': [-81.721952, 33.5598586]},\n   'record_timestamp': '2020-08-22T22:00:50.947000+00:00'},\n  {'datasetid': 'us-mass-shootings-1982-2017',\n   'recordid': 'd4df6728edde9929e1c5c77bd35b492a3415105d',\n   'fields': {'injured': 1,\n    'case': 'Fort Lauderdale revenge shooting',\n    'mental_health_details': 'Co-workers complained about his threats and verbal abuse. His supervisors asked him to get a psychiatric evaluation. He lost his job, which relatives said drove his depression.',\n    'race': 'Black',\n    'total_victims': 7,\n    'weapons_obtained_legally': 'Yes',\n    'venue': 'Workplace',\n    'type_of_weapons': 'One semiautomatic handgun,one revolver',\n    'coordinates': [26.119269, -80.104119],\n    'summary': 'Fired city park employee Clifton McCree, 41, opened fire on former coworkers he called \"racist devils\" inside their municipal trailer in an act of revenge after failing a drug test. He then committed suicide.',\n    'sources': 'http://www.nytimes.com/1996/02/11/us/florida-killer-said-victims-were-racists-police-say.html; http://articles.sun-sentinel.com/1996-02-10/news/9602090635_1_million-firearms-multiple-guns-reloading',\n    'state': 'Florida',\n    'mental_health_sources': 'http://articles.sun-sentinel.com/1996-02-11/news/9602110026_1_beach-crew-maintenance-fort-lauderdale',\n    'prior_signs_of_mental_health_issues': 'Yes',\n    'location': 'Fort Lauderdale',\n    'gender': 'Male',\n    'date': '1996-02-09',\n    'fatalities': 6,\n    'where_obtained': 'Unknown',\n    'type': 'Spree',\n    'weapon_details': '9mm Glock semiautomatic handgun; .32-caliber revolver'},\n   'geometry': {'type': 'Point', 'coordinates': [-80.104119, 26.119269]},\n   'record_timestamp': '2020-08-22T22:00:50.947000+00:00'},\n  {'datasetid': 'us-mass-shootings-1982-2017',\n   'recordid': '6dc6dcfb8aafcd0d76c0f602d33a337190ec9e53',\n   'fields': {'injured': 2,\n    'case': 'San Francisco UPS shooting',\n    'mental_health_details': 'Lam had a history of domestic, work conflict',\n    'race': 'Asian',\n    'total_victims': 5,\n    'weapons_obtained_legally': 'No',\n    'venue': 'Workplace',\n    'type_of_weapons': 'two handguns',\n    'coordinates': [37.765947, -122.406087],\n    'summary': 'Jimmy Lam, 38, fatally shot three coworkers and wounded two others inside a UPS facility in San Francisco. Lam killed himself as law enforcement officers responded to the scene.',\n    'sources': 'http://www.nbcbayarea.com/news/local/Active-Shooter-San-Francisco-Police-428441423.html; https://apnews.com/2c1690393510447995018b0f9467b44c?utm_campaign=SocialFlow&utm_source=Twitter&utm_medium=AP; http://www.sfchronicle.com/bayarea/article/Police-swarm-UPS-building-in-SF-on-report-of-11219519.php; https://www.pressroom.ups.com/pressroom/ContentDetailsViewer.page?ConceptType=PressReleases&id=1497461182413-836; http://www.foxnews.com/us/2017/06/15/san-francisco-ups-facility-shooting-gunman-identified-as-police-seek-motive.html; http://www.sfgate.com/crime/article/UPS-shooter-in-San-Francisco-used-stolen-gun-with-11243414.php',\n    'state': 'California',\n    'mental_health_sources': 'http://www.ktvu.com/news/ktvu-local-news/261771610-story; https://twitter.com/LauraGarciaCann/status/875072768471117824; http://heavy.com/news/2017/06/jimmy-lam-ups-san-francisco-shooting-suspect/; http://heavy.com/news/2017/06/jimmy-lam-ups-san-francisco-shooting-suspect/',\n    'prior_signs_of_mental_health_issues': 'Yes',\n    'location': 'San Francisco',\n    'gender': 'Male',\n    'date': '2017-06-14',\n    'fatalities': 3,\n    'where_obtained': 'Unclear; the firearm was stolen in Utah. A second handgun Lam had (also stolen) was unused in the attack.',\n    'type': 'Mass',\n    'weapon_details': 'MAC-10-style “assault pistol”; 30-round magazine. An additional box of ammunition.'},\n   'geometry': {'type': 'Point', 'coordinates': [-122.406087, 37.765947]},\n   'record_timestamp': '2020-08-22T22:00:50.947000+00:00'},\n  {'datasetid': 'us-mass-shootings-1982-2017',\n   'recordid': 'd9b971c0b6131e64243a4e9e8a5f725b12eb2064',\n   'fields': {'injured': 8,\n    'case': 'Washington Navy Yard shooting',\n    'mental_health_details': 'Had told Rhode Island police the prior month that he\\'d \"heard voices\"; had been undergoing mental health treatment with Veterans Affairs since August 2013.',\n    'race': 'Black',\n    'total_victims': 20,\n    'weapons_obtained_legally': 'Yes',\n    'venue': 'Military',\n    'type_of_weapons': 'Sawed-off shotgun,2 boxes of shells; also a .45-caliber handgun taken from a security guard he shot at the scene.',\n    'coordinates': [38.874981, -76.99453],\n    'summary': 'Aaron Alexis, 34, a military veteran and contractor from Texas, opened fire in the Navy installation, killing 12 people and wounding 8 before being shot dead by police.',\n    'sources': 'http://www.nytimes.com/2013/09/18/us/state-law-stopped-gunman-from-buying-rifle-officials-say.html; http://edition.cnn.com/2013/09/17/us/navy-yard-shooting-military-contractors; http://www.fbi.gov/washingtondc/press-releases/2013/law-enforcement-shares-findings-of-the-investigation-into-the-washington-navy-yard-shootings/index.html',\n    'state': 'D.C.',\n    'mental_health_sources': 'http://bigstory.ap.org/article/13-killed-washington-navy-yard-shooting-rampage',\n    'prior_signs_of_mental_health_issues': 'Yes',\n    'location': 'Washington',\n    'gender': 'Male',\n    'date': '2013-09-16',\n    'fatalities': 12,\n    'where_obtained': 'Sharpshooters Small Arms Range',\n    'type': 'Mass',\n    'weapon_details': 'Remington 870 Express 12-gauge shotgun; Beretta handgun'},\n   'geometry': {'type': 'Point', 'coordinates': [-76.99453, 38.874981]},\n   'record_timestamp': '2020-08-22T22:00:50.947000+00:00'},\n  {'datasetid': 'us-mass-shootings-1982-2017',\n   'recordid': 'f9c83746fa853058e0c69a666498859a15e3018e',\n   'fields': {'injured': 1,\n    'case': 'Coffee shop police killings',\n    'mental_health_details': 'He had a history of erratic, bizarre behavior. He once asked his family to get naked for 5 minutes on Sunday; he said he thought the world would end and that he was Jesus.',\n    'race': 'Black',\n    'total_victims': 5,\n    'weapons_obtained_legally': 'No',\n    'venue': 'Other',\n    'type_of_weapons': 'One semiautomatic handgun',\n    'coordinates': [47.15277, -122.467308],\n    'summary': 'Maurice Clemmons, 37, a felon who was out on bail for child-rape charges, entered a coffee shop on a Sunday morning and shot four police officers who had gone there to use their laptops before their shifts. Clemmons, who was wounded fleeing the scene, was later shot dead by a police officer in Seattle after a two-day manhunt.',\n    'sources': 'http://seattletimes.com/html/localnews/2010385617_webmansought29.html; http://www.nytimes.com/2009/11/30/us/30tacoma.html?_r=1; http://seattletimes.com/html/localnews/2014155225_clemmons08m.html',\n    'state': 'Washington',\n    'mental_health_sources': 'http://seattletimes.com/html/localnews/2010385617_webmansought29.html',\n    'prior_signs_of_mental_health_issues': 'Yes',\n    'location': 'Parkland',\n    'gender': 'Male',\n    'date': '2009-11-29',\n    'fatalities': 4,\n    'where_obtained': 'Stolen from an individual in Seattle.',\n    'type': 'Mass',\n    'weapon_details': '9mm Glock 17 semiautomatic handgun; .38-caliber Smith & Wesson revolver'},\n   'geometry': {'type': 'Point', 'coordinates': [-122.467308, 47.15277]},\n   'record_timestamp': '2020-08-22T22:00:50.947000+00:00'},\n  {'datasetid': 'us-mass-shootings-1982-2017',\n   'recordid': '81fc21a2571208b46d34d3b49eb9273486d25e94',\n   'fields': {'injured': 14,\n    'case': 'Stoneman Douglas High School shooting',\n    'mental_health_details': 'Cruz had a long history of behavioral problems and had spent time in mental health clinics.',\n    'race': 'White',\n    'total_victims': 31,\n    'weapons_obtained_legally': 'Yes',\n    'venue': 'School',\n    'type_of_weapons': 'semiautomatic rifle',\n    'coordinates': [26.30483, -80.269511],\n    'summary': 'Nikolas J. Cruz, 19, heavily armed with an AR-15, tactical gear, and “countless magazines” of ammo, according to the Broward County Sheriff, attacked the high school as classes were ending for the day, killing at least 17 people and injuring many others. He was apprehended by authorities shortly after fleeing the campus.',\n    'sources': 'https://www.nytimes.com/2018/02/14/us/parkland-school-shooting.html; https://www.nytimes.com/2018/02/15/us/nikolas-cruz-florida-shooting.html',\n    'state': 'Florida',\n    'mental_health_sources': 'https://www.nytimes.com/2018/02/15/us/nikolas-cruz-florida-shooting.html',\n    'prior_signs_of_mental_health_issues': 'Yes',\n    'location': 'Parkland',\n    'gender': 'Male',\n    'date': '2018-02-14',\n    'fatalities': 17,\n    'where_obtained': 'A Florida pawn shop',\n    'type': 'Mass',\n    'weapon_details': 'AR-15'},\n   'geometry': {'type': 'Point', 'coordinates': [-80.269511, 26.30483]},\n   'record_timestamp': '2020-08-22T22:00:50.947000+00:00'},\n  {'datasetid': 'us-mass-shootings-1982-2017',\n   'recordid': '4863f14e990bbf9f90702243f184e7d4db8ed805',\n   'fields': {'injured': 9,\n    'case': 'Planned Parenthood clinic',\n    'mental_health_details': 'The judge in the case has not publicly released Dear\\'s medical and mental health records. As of April 5, 2016, Dear was undergoing a competency evaluation. Dear had a history of disputes with his relatives and neighbors. At a hearing in December 2015, he said, \"I am a warrior for the babies.\"',\n    'race': 'White',\n    'total_victims': 12,\n    'weapons_obtained_legally': 'Unknown',\n    'venue': 'Workplace',\n    'type_of_weapons': 'Long gun',\n    'coordinates': [38.881031, -104.849057],\n    'summary': 'Robert Lewis Dear, 57, shot and killed a police officer and two citizens when he opened fire at a Planned Parenthood health clinic in Colorado Springs, Colorado. Nine others were wounded. Dear was arrested after an hours-long standoff with police.',\n    'sources': 'http://www.nytimes.com/2015/11/28/us/colorado-planned-parenthood-shooting.html and http://www.cnn.com/2015/12/09/us/colorado-planned-parenthood-shooting/ and http://www.npr.org/sections/thetwo-way/2015/11/28/457674369/planned-parenthood-shooting-police-name-suspect-procession-for-fallen-officer and http://www.cbsnews.com/news/robert-lewis-dear-planned-parenthood-first-court-appearance/ and http://www.denverpost.com/news/ci_29729326/judge-wont-release-all-records-accused-planned-parenthood and http://www.csindy.com/IndyBlog/archives/2016/02/17/judge-resists-unsealing-dear-affidavits; http://www.nbcnews.com/news/us-news/who-robert-dear-planned-parenthood-shooting-suspect-seemed-strange-not-n470896',\n    'state': 'Colorado',\n    'mental_health_sources': '-',\n    'prior_signs_of_mental_health_issues': 'Unclear',\n    'location': 'Colorado Springs',\n    'gender': 'Male',\n    'date': '2015-11-27',\n    'fatalities': 3,\n    'where_obtained': 'Unclear',\n    'type': 'Mass',\n    'weapon_details': \"Reportedly an AK-47 style semiautomatic rifle and others. Authorities had not released details on Dear's weapons as of April 2016.\"},\n   'geometry': {'type': 'Point', 'coordinates': [-104.849057, 38.881031]},\n   'record_timestamp': '2020-08-22T22:00:50.947000+00:00'},\n  {'datasetid': 'us-mass-shootings-1982-2017',\n   'recordid': '5ca017b13edc6203f17a13bd5c4bdffcdb19b4c1',\n   'fields': {'injured': 4,\n    'case': 'Binghamton shootings',\n    'mental_health_details': 'He apparently harbored growing paranoia toward cops. He also sent a delusional letter to a local TV station right before the shooting.',\n    'race': 'Asian',\n    'total_victims': 18,\n    'weapons_obtained_legally': 'Yes',\n    'venue': 'Other',\n    'type_of_weapons': 'Two semiautomatic handguns',\n    'coordinates': [42.099802, -75.917723],\n    'summary': 'Jiverly Wong, 41, opened fire at an American Civic Association center for immigrants before committing suicide.',\n    'sources': 'http://www.nytimes.com/2009/04/12/nyregion/12binghamton.html?pagewanted=all&_r=0; http://www.nytimes.com/2009/04/04/nyregion/04hostage.html?pagewanted=all',\n    'state': 'NewYork',\n    'mental_health_sources': 'http://www.nytimes.com/2009/04/12/nyregion/12binghamton.html?pagewanted=all&_r=1&',\n    'prior_signs_of_mental_health_issues': 'Yes',\n    'location': 'Binghamton',\n    'gender': 'Male',\n    'date': '2009-04-03',\n    'fatalities': 14,\n    'where_obtained': 'Gander Mountain in Johnson City, N.Y.',\n    'type': 'Mass',\n    'weapon_details': '9mm Beretta, .45-caliber Springfield semiautomatic handguns'},\n   'geometry': {'type': 'Point', 'coordinates': [-75.917723, 42.099802]},\n   'record_timestamp': '2020-08-22T22:00:50.947000+00:00'},\n  {'datasetid': 'us-mass-shootings-1982-2017',\n   'recordid': '8a60ba69811f95375b137fe369720c9c0c2c78d7',\n   'fields': {'case': 'THE CURRENT VERSION OF THIS DATABASE, INCLUDING UPDATED LOCATION DATA, NOW LIVES HERE: https://docs.google.com/spreadsheets/d/1b9o6uDO18sLxBqPwl_Gh9bnhW-ev_dABH83M5Vb5L8o/edit#gid=0'},\n   'record_timestamp': '2020-08-22T22:00:50.947000+00:00'},\n  {'datasetid': 'us-mass-shootings-1982-2017',\n   'recordid': 'fad22bc669e878d82eb1b02167a2ff2c49ee1f12',\n   'fields': {'injured': 20,\n    'case': 'Texas First Baptist Church massacre',\n    'mental_health_details': 'Kelley had a history of domestic violence, including a court martial and conviction stemming from assaulting his wife and child; he also had a history of cruelty to animals and of stalking and harassing ex-girlfriends, including an underage girl. He reportedly briefly escaped from a mental health facility in 2012.',\n    'race': 'White',\n    'total_victims': 46,\n    'weapons_obtained_legally': 'Kelley passed federal criminal background checks; the US Air Force failed to provide information on his criminal history to the FBI',\n    'venue': 'Religious',\n    'type_of_weapons': 'semiautomatic rifle',\n    'coordinates': [29.273282, -98.056488],\n    'summary': 'Devin Patrick Kelley, a 26-year-old ex-US Air Force airman, opened fire at the First Baptist Church in Sutherland Springs during Sunday morning services, killing at least 26 people and wounding and injuring 20 others. He left the church and fled in his vehicle after engaging in a gunfight with a local citizen; he soon crashed his vehicle and died from a self-inflicted gunshot wound.',\n    'sources': 'https://www.washingtonpost.com/news/morning-mix/wp/2017/11/06/who-is-devin-patrick-kelley-gunman-who-officials-say-killed-churchgoers-in-sutherland-springs/; https://www.washingtonpost.com/news/post-nation/wp/2017/11/06/investigators-hunt-for-motive-in-texas-church-shooting-as-the-grieving-spans-generations/; https://www.washingtonpost.com/news/morning-mix/wp/2017/11/06/an-unlikely-hero-describes-gun-battle-and-95-mph-chase-with-texas-shooting-suspect/; http://www.cnn.com/2017/11/06/us/texas-church-shooting/index.html; https://www.usnews.com/news/top-news/articles/2017-11-06/church-shooter-killed-himself-after-vehicle-chase-sheriff-tells-cbs',\n    'state': 'Texas',\n    'mental_health_sources': 'http://www.expressnews.com/news/local/article/Suspected-gunman-Devin-Patrick-Kelley-lived-near-12334186.php; http://www.denverpost.com/2017/11/06/texas-shooting-devin-patrick-kelley-colorado-arrest/; https://www.nbcnews.com/storyline/texas-church-shooting/who-devin-kelley-alleged-texas-church-shooter-n817806; https://www.click2houston.com/news/sutherland-springs-church-shooter-escaped-mental-health-facility-months-after-attack-on-wife-child',\n    'prior_signs_of_mental_health_issues': 'Yes',\n    'location': 'Sutherland Springs',\n    'gender': 'Male',\n    'date': '2017-11-05',\n    'fatalities': 26,\n    'where_obtained': 'Purchased in April 2016 from an Academy Sports & Outdoors store in San Antonio',\n    'type': 'Mass',\n    'weapon_details': 'Ruger AR-556; Kelley also possessed semiautomatic handguns'},\n   'geometry': {'type': 'Point', 'coordinates': [-98.056488, 29.273282]},\n   'record_timestamp': '2020-08-22T22:00:50.947000+00:00'}]}"
     },
     "metadata": {},
     "execution_count": 79
    }
   ],
   "source": [
    "base_url = \"https://public.opendatasoft.com/api/records/1.0/search\"\n",
    "params = {'api_key': open_key,\n",
    "'dataset': 'us-mass-shootings-1982-2017',\n",
    "'facet': 'location',\n",
    "'facet': 'city',\n",
    "'facet': 'state',\n",
    "'facet': 'weapons_obtained_legally',\n",
    "'facet': 'date',\n",
    "'facet': 'type_of_weapons',\n",
    "'facet': 'preior_signs_of_mental_health_issues'\n",
    "}\n",
    "\n",
    "\n",
    "resp = requests.get(base_url, params = params).json()\n",
    "resp"
   ]
  },
  {
   "cell_type": "code",
   "execution_count": 102,
   "metadata": {},
   "outputs": [
    {
     "output_type": "execute_result",
     "data": {
      "text/plain": "'SouthCarolina'"
     },
     "metadata": {},
     "execution_count": 102
    }
   ],
   "source": [
    "xx=resp['records'][0]['fields']['state'][:]\n",
    "xx"
   ]
  },
  {
   "cell_type": "code",
   "execution_count": 80,
   "metadata": {},
   "outputs": [
    {
     "output_type": "execute_result",
     "data": {
      "text/plain": "['fields.injured',\n 'fields.case',\n 'fields.mental_health_details',\n 'fields.race',\n 'fields.total_victims',\n 'fields.weapons_obtained_legally',\n 'fields.venue',\n 'fields.type_of_weapons',\n 'fields.coordinates',\n 'fields.summary',\n 'fields.sources',\n 'fields.state',\n 'fields.mental_health_sources',\n 'fields.prior_signs_of_mental_health_issues',\n 'fields.location',\n 'fields.gender',\n 'fields.date',\n 'fields.fatalities',\n 'fields.where_obtained',\n 'fields.type',\n 'fields.weapon_details']"
     },
     "metadata": {},
     "execution_count": 80
    }
   ],
   "source": [
    "filter_col = [col for col in pd.json_normalize(resp['records']) if col.startswith('fields')]\n",
    "filter_col"
   ]
  },
  {
   "cell_type": "code",
   "execution_count": 81,
   "metadata": {},
   "outputs": [
    {
     "output_type": "execute_result",
     "data": {
      "text/plain": "   fields.injured                            fields.case  \\\n0             3.0           R.E. Phelon Company shooting   \n1             1.0       Fort Lauderdale revenge shooting   \n2             2.0             San Francisco UPS shooting   \n3             8.0          Washington Navy Yard shooting   \n4             1.0            Coffee shop police killings   \n5            14.0  Stoneman Douglas High School shooting   \n6             9.0              Planned Parenthood clinic   \n7             4.0                   Binghamton shootings   \n8            20.0    Texas First Baptist Church massacre   \n\n                        fields.mental_health_details fields.race  \\\n0  An ex-con, he had been freed from prison, alth...       Black   \n1  Co-workers complained about his threats and ve...       Black   \n2       Lam had a history of domestic, work conflict       Asian   \n3  Had told Rhode Island police the prior month t...       Black   \n4  He had a history of erratic, bizarre behavior....       Black   \n5  Cruz had a long history of behavioral problems...       White   \n6  The judge in the case has not publicly release...       White   \n7  He apparently harbored growing paranoia toward...       Asian   \n8  Kelley had a history of domestic violence, inc...       White   \n\n   fields.total_victims                    fields.weapons_obtained_legally  \\\n0                   7.0                                                 No   \n1                   7.0                                                Yes   \n2                   5.0                                                 No   \n3                  20.0                                                Yes   \n4                   5.0                                                 No   \n5                  31.0                                                Yes   \n6                  12.0                                            Unknown   \n7                  18.0                                                Yes   \n8                  46.0  Kelley passed federal criminal background chec...   \n\n  fields.venue                             fields.type_of_weapons  \\\n0    Workplace                          One semiautomatic handgun   \n1    Workplace             One semiautomatic handgun,one revolver   \n2    Workplace                                       two handguns   \n3     Military  Sawed-off shotgun,2 boxes of shells; also a .4...   \n4        Other                          One semiautomatic handgun   \n5       School                                semiautomatic rifle   \n6    Workplace                                           Long gun   \n7        Other                         Two semiautomatic handguns   \n8    Religious                                semiautomatic rifle   \n\n         fields.coordinates  \\\n0  [33.5598586, -81.721952]   \n1   [26.119269, -80.104119]   \n2  [37.765947, -122.406087]   \n3    [38.874981, -76.99453]   \n4   [47.15277, -122.467308]   \n5    [26.30483, -80.269511]   \n6  [38.881031, -104.849057]   \n7   [42.099802, -75.917723]   \n8   [29.273282, -98.056488]   \n\n                                      fields.summary  ...   fields.state  \\\n0  Ex-con Hastings Arthur Wise, 43, opened fire a...  ...  SouthCarolina   \n1  Fired city park employee Clifton McCree, 41, o...  ...        Florida   \n2  Jimmy Lam, 38, fatally shot three coworkers an...  ...     California   \n3  Aaron Alexis, 34, a military veteran and contr...  ...           D.C.   \n4  Maurice Clemmons, 37, a felon who was out on b...  ...     Washington   \n5  Nikolas J. Cruz, 19, heavily armed with an AR-...  ...        Florida   \n6  Robert Lewis Dear, 57, shot and killed a polic...  ...       Colorado   \n7  Jiverly Wong, 41, opened fire at an American C...  ...        NewYork   \n8  Devin Patrick Kelley, a 26-year-old ex-US Air ...  ...          Texas   \n\n                        fields.mental_health_sources  \\\n0  http://chronicle.augusta.com/stories/1997/09/1...   \n1  http://articles.sun-sentinel.com/1996-02-11/ne...   \n2  http://www.ktvu.com/news/ktvu-local-news/26177...   \n3  http://bigstory.ap.org/article/13-killed-washi...   \n4  http://seattletimes.com/html/localnews/2010385...   \n5  https://www.nytimes.com/2018/02/15/us/nikolas-...   \n6                                                  -   \n7  http://www.nytimes.com/2009/04/12/nyregion/12b...   \n8  http://www.expressnews.com/news/local/article/...   \n\n  fields.prior_signs_of_mental_health_issues     fields.location  \\\n0                                         No               Aiken   \n1                                        Yes     Fort Lauderdale   \n2                                        Yes       San Francisco   \n3                                        Yes          Washington   \n4                                        Yes            Parkland   \n5                                        Yes            Parkland   \n6                                    Unclear    Colorado Springs   \n7                                        Yes          Binghamton   \n8                                        Yes  Sutherland Springs   \n\n  fields.gender fields.date fields.fatalities  \\\n0          Male  1997-09-15               4.0   \n1          Male  1996-02-09               6.0   \n2          Male  2017-06-14               3.0   \n3          Male  2013-09-16              12.0   \n4          Male  2009-11-29               4.0   \n5          Male  2018-02-14              17.0   \n6          Male  2015-11-27               3.0   \n7          Male  2009-04-03              14.0   \n8          Male  2017-11-05              26.0   \n\n                               fields.where_obtained fields.type  \\\n0                                            Unknown        Mass   \n1                                            Unknown       Spree   \n2  Unclear; the firearm was stolen in Utah. A sec...        Mass   \n3                     Sharpshooters Small Arms Range        Mass   \n4              Stolen from an individual in Seattle.        Mass   \n5                                A Florida pawn shop        Mass   \n6                                            Unclear        Mass   \n7              Gander Mountain in Johnson City, N.Y.        Mass   \n8  Purchased in April 2016 from an Academy Sports...        Mass   \n\n                               fields.weapon_details  \n0                          9mm semiautomatic handgun  \n1  9mm Glock semiautomatic handgun; .32-caliber r...  \n2  MAC-10-style “assault pistol”; 30-round magazi...  \n3  Remington 870 Express 12-gauge shotgun; Berett...  \n4  9mm Glock 17 semiautomatic handgun; .38-calibe...  \n5                                              AR-15  \n6  Reportedly an AK-47 style semiautomatic rifle ...  \n7  9mm Beretta, .45-caliber Springfield semiautom...  \n8  Ruger AR-556; Kelley also possessed semiautoma...  \n\n[9 rows x 21 columns]",
      "text/html": "<div>\n<style scoped>\n    .dataframe tbody tr th:only-of-type {\n        vertical-align: middle;\n    }\n\n    .dataframe tbody tr th {\n        vertical-align: top;\n    }\n\n    .dataframe thead th {\n        text-align: right;\n    }\n</style>\n<table border=\"1\" class=\"dataframe\">\n  <thead>\n    <tr style=\"text-align: right;\">\n      <th></th>\n      <th>fields.injured</th>\n      <th>fields.case</th>\n      <th>fields.mental_health_details</th>\n      <th>fields.race</th>\n      <th>fields.total_victims</th>\n      <th>fields.weapons_obtained_legally</th>\n      <th>fields.venue</th>\n      <th>fields.type_of_weapons</th>\n      <th>fields.coordinates</th>\n      <th>fields.summary</th>\n      <th>...</th>\n      <th>fields.state</th>\n      <th>fields.mental_health_sources</th>\n      <th>fields.prior_signs_of_mental_health_issues</th>\n      <th>fields.location</th>\n      <th>fields.gender</th>\n      <th>fields.date</th>\n      <th>fields.fatalities</th>\n      <th>fields.where_obtained</th>\n      <th>fields.type</th>\n      <th>fields.weapon_details</th>\n    </tr>\n  </thead>\n  <tbody>\n    <tr>\n      <th>0</th>\n      <td>3.0</td>\n      <td>R.E. Phelon Company shooting</td>\n      <td>An ex-con, he had been freed from prison, alth...</td>\n      <td>Black</td>\n      <td>7.0</td>\n      <td>No</td>\n      <td>Workplace</td>\n      <td>One semiautomatic handgun</td>\n      <td>[33.5598586, -81.721952]</td>\n      <td>Ex-con Hastings Arthur Wise, 43, opened fire a...</td>\n      <td>...</td>\n      <td>SouthCarolina</td>\n      <td>http://chronicle.augusta.com/stories/1997/09/1...</td>\n      <td>No</td>\n      <td>Aiken</td>\n      <td>Male</td>\n      <td>1997-09-15</td>\n      <td>4.0</td>\n      <td>Unknown</td>\n      <td>Mass</td>\n      <td>9mm semiautomatic handgun</td>\n    </tr>\n    <tr>\n      <th>1</th>\n      <td>1.0</td>\n      <td>Fort Lauderdale revenge shooting</td>\n      <td>Co-workers complained about his threats and ve...</td>\n      <td>Black</td>\n      <td>7.0</td>\n      <td>Yes</td>\n      <td>Workplace</td>\n      <td>One semiautomatic handgun,one revolver</td>\n      <td>[26.119269, -80.104119]</td>\n      <td>Fired city park employee Clifton McCree, 41, o...</td>\n      <td>...</td>\n      <td>Florida</td>\n      <td>http://articles.sun-sentinel.com/1996-02-11/ne...</td>\n      <td>Yes</td>\n      <td>Fort Lauderdale</td>\n      <td>Male</td>\n      <td>1996-02-09</td>\n      <td>6.0</td>\n      <td>Unknown</td>\n      <td>Spree</td>\n      <td>9mm Glock semiautomatic handgun; .32-caliber r...</td>\n    </tr>\n    <tr>\n      <th>2</th>\n      <td>2.0</td>\n      <td>San Francisco UPS shooting</td>\n      <td>Lam had a history of domestic, work conflict</td>\n      <td>Asian</td>\n      <td>5.0</td>\n      <td>No</td>\n      <td>Workplace</td>\n      <td>two handguns</td>\n      <td>[37.765947, -122.406087]</td>\n      <td>Jimmy Lam, 38, fatally shot three coworkers an...</td>\n      <td>...</td>\n      <td>California</td>\n      <td>http://www.ktvu.com/news/ktvu-local-news/26177...</td>\n      <td>Yes</td>\n      <td>San Francisco</td>\n      <td>Male</td>\n      <td>2017-06-14</td>\n      <td>3.0</td>\n      <td>Unclear; the firearm was stolen in Utah. A sec...</td>\n      <td>Mass</td>\n      <td>MAC-10-style “assault pistol”; 30-round magazi...</td>\n    </tr>\n    <tr>\n      <th>3</th>\n      <td>8.0</td>\n      <td>Washington Navy Yard shooting</td>\n      <td>Had told Rhode Island police the prior month t...</td>\n      <td>Black</td>\n      <td>20.0</td>\n      <td>Yes</td>\n      <td>Military</td>\n      <td>Sawed-off shotgun,2 boxes of shells; also a .4...</td>\n      <td>[38.874981, -76.99453]</td>\n      <td>Aaron Alexis, 34, a military veteran and contr...</td>\n      <td>...</td>\n      <td>D.C.</td>\n      <td>http://bigstory.ap.org/article/13-killed-washi...</td>\n      <td>Yes</td>\n      <td>Washington</td>\n      <td>Male</td>\n      <td>2013-09-16</td>\n      <td>12.0</td>\n      <td>Sharpshooters Small Arms Range</td>\n      <td>Mass</td>\n      <td>Remington 870 Express 12-gauge shotgun; Berett...</td>\n    </tr>\n    <tr>\n      <th>4</th>\n      <td>1.0</td>\n      <td>Coffee shop police killings</td>\n      <td>He had a history of erratic, bizarre behavior....</td>\n      <td>Black</td>\n      <td>5.0</td>\n      <td>No</td>\n      <td>Other</td>\n      <td>One semiautomatic handgun</td>\n      <td>[47.15277, -122.467308]</td>\n      <td>Maurice Clemmons, 37, a felon who was out on b...</td>\n      <td>...</td>\n      <td>Washington</td>\n      <td>http://seattletimes.com/html/localnews/2010385...</td>\n      <td>Yes</td>\n      <td>Parkland</td>\n      <td>Male</td>\n      <td>2009-11-29</td>\n      <td>4.0</td>\n      <td>Stolen from an individual in Seattle.</td>\n      <td>Mass</td>\n      <td>9mm Glock 17 semiautomatic handgun; .38-calibe...</td>\n    </tr>\n    <tr>\n      <th>5</th>\n      <td>14.0</td>\n      <td>Stoneman Douglas High School shooting</td>\n      <td>Cruz had a long history of behavioral problems...</td>\n      <td>White</td>\n      <td>31.0</td>\n      <td>Yes</td>\n      <td>School</td>\n      <td>semiautomatic rifle</td>\n      <td>[26.30483, -80.269511]</td>\n      <td>Nikolas J. Cruz, 19, heavily armed with an AR-...</td>\n      <td>...</td>\n      <td>Florida</td>\n      <td>https://www.nytimes.com/2018/02/15/us/nikolas-...</td>\n      <td>Yes</td>\n      <td>Parkland</td>\n      <td>Male</td>\n      <td>2018-02-14</td>\n      <td>17.0</td>\n      <td>A Florida pawn shop</td>\n      <td>Mass</td>\n      <td>AR-15</td>\n    </tr>\n    <tr>\n      <th>6</th>\n      <td>9.0</td>\n      <td>Planned Parenthood clinic</td>\n      <td>The judge in the case has not publicly release...</td>\n      <td>White</td>\n      <td>12.0</td>\n      <td>Unknown</td>\n      <td>Workplace</td>\n      <td>Long gun</td>\n      <td>[38.881031, -104.849057]</td>\n      <td>Robert Lewis Dear, 57, shot and killed a polic...</td>\n      <td>...</td>\n      <td>Colorado</td>\n      <td>-</td>\n      <td>Unclear</td>\n      <td>Colorado Springs</td>\n      <td>Male</td>\n      <td>2015-11-27</td>\n      <td>3.0</td>\n      <td>Unclear</td>\n      <td>Mass</td>\n      <td>Reportedly an AK-47 style semiautomatic rifle ...</td>\n    </tr>\n    <tr>\n      <th>7</th>\n      <td>4.0</td>\n      <td>Binghamton shootings</td>\n      <td>He apparently harbored growing paranoia toward...</td>\n      <td>Asian</td>\n      <td>18.0</td>\n      <td>Yes</td>\n      <td>Other</td>\n      <td>Two semiautomatic handguns</td>\n      <td>[42.099802, -75.917723]</td>\n      <td>Jiverly Wong, 41, opened fire at an American C...</td>\n      <td>...</td>\n      <td>NewYork</td>\n      <td>http://www.nytimes.com/2009/04/12/nyregion/12b...</td>\n      <td>Yes</td>\n      <td>Binghamton</td>\n      <td>Male</td>\n      <td>2009-04-03</td>\n      <td>14.0</td>\n      <td>Gander Mountain in Johnson City, N.Y.</td>\n      <td>Mass</td>\n      <td>9mm Beretta, .45-caliber Springfield semiautom...</td>\n    </tr>\n    <tr>\n      <th>8</th>\n      <td>20.0</td>\n      <td>Texas First Baptist Church massacre</td>\n      <td>Kelley had a history of domestic violence, inc...</td>\n      <td>White</td>\n      <td>46.0</td>\n      <td>Kelley passed federal criminal background chec...</td>\n      <td>Religious</td>\n      <td>semiautomatic rifle</td>\n      <td>[29.273282, -98.056488]</td>\n      <td>Devin Patrick Kelley, a 26-year-old ex-US Air ...</td>\n      <td>...</td>\n      <td>Texas</td>\n      <td>http://www.expressnews.com/news/local/article/...</td>\n      <td>Yes</td>\n      <td>Sutherland Springs</td>\n      <td>Male</td>\n      <td>2017-11-05</td>\n      <td>26.0</td>\n      <td>Purchased in April 2016 from an Academy Sports...</td>\n      <td>Mass</td>\n      <td>Ruger AR-556; Kelley also possessed semiautoma...</td>\n    </tr>\n  </tbody>\n</table>\n<p>9 rows × 21 columns</p>\n</div>"
     },
     "metadata": {},
     "execution_count": 81
    }
   ],
   "source": [
    "data_set = pd.json_normalize(resp['records'])[filter_col]\n",
    "data_set = data_set.dropna(how='any', axis=0).reset_index(drop=True)\n",
    "data_set.to_csv(\"data_in/mass_shooting.csv\") \n",
    "data_set"
   ]
  },
  {
   "cell_type": "code",
   "execution_count": 87,
   "metadata": {},
   "outputs": [
    {
     "output_type": "error",
     "ename": "KeyError",
     "evalue": "('field.date', 'field.location', 'field.state', 'field.coordinates', 'field.fatalities', 'field.injured', 'fields.type_of_weapons')",
     "traceback": [
      "\u001b[1;31m---------------------------------------------------------------------------\u001b[0m",
      "\u001b[1;31mKeyError\u001b[0m                                  Traceback (most recent call last)",
      "\u001b[1;32m~\\anaconda3\\envs\\PythonData\\lib\\site-packages\\pandas\\core\\indexes\\base.py\u001b[0m in \u001b[0;36mget_loc\u001b[1;34m(self, key, method, tolerance)\u001b[0m\n\u001b[0;32m   2888\u001b[0m             \u001b[1;32mtry\u001b[0m\u001b[1;33m:\u001b[0m\u001b[1;33m\u001b[0m\u001b[1;33m\u001b[0m\u001b[0m\n\u001b[1;32m-> 2889\u001b[1;33m                 \u001b[1;32mreturn\u001b[0m \u001b[0mself\u001b[0m\u001b[1;33m.\u001b[0m\u001b[0m_engine\u001b[0m\u001b[1;33m.\u001b[0m\u001b[0mget_loc\u001b[0m\u001b[1;33m(\u001b[0m\u001b[0mcasted_key\u001b[0m\u001b[1;33m)\u001b[0m\u001b[1;33m\u001b[0m\u001b[1;33m\u001b[0m\u001b[0m\n\u001b[0m\u001b[0;32m   2890\u001b[0m             \u001b[1;32mexcept\u001b[0m \u001b[0mKeyError\u001b[0m \u001b[1;32mas\u001b[0m \u001b[0merr\u001b[0m\u001b[1;33m:\u001b[0m\u001b[1;33m\u001b[0m\u001b[1;33m\u001b[0m\u001b[0m\n",
      "\u001b[1;32mpandas\\_libs\\index.pyx\u001b[0m in \u001b[0;36mpandas._libs.index.IndexEngine.get_loc\u001b[1;34m()\u001b[0m\n",
      "\u001b[1;32mpandas\\_libs\\index.pyx\u001b[0m in \u001b[0;36mpandas._libs.index.IndexEngine.get_loc\u001b[1;34m()\u001b[0m\n",
      "\u001b[1;32mpandas\\_libs\\hashtable_class_helper.pxi\u001b[0m in \u001b[0;36mpandas._libs.hashtable.PyObjectHashTable.get_item\u001b[1;34m()\u001b[0m\n",
      "\u001b[1;32mpandas\\_libs\\hashtable_class_helper.pxi\u001b[0m in \u001b[0;36mpandas._libs.hashtable.PyObjectHashTable.get_item\u001b[1;34m()\u001b[0m\n",
      "\u001b[1;31mKeyError\u001b[0m: ('field.date', 'field.location', 'field.state', 'field.coordinates', 'field.fatalities', 'field.injured', 'fields.type_of_weapons')",
      "\nThe above exception was the direct cause of the following exception:\n",
      "\u001b[1;31mKeyError\u001b[0m                                  Traceback (most recent call last)",
      "\u001b[1;32m<ipython-input-87-c3728bb9bcbf>\u001b[0m in \u001b[0;36m<module>\u001b[1;34m\u001b[0m\n\u001b[1;32m----> 1\u001b[1;33m \u001b[0mclean_data\u001b[0m \u001b[1;33m=\u001b[0m \u001b[0mdata_set\u001b[0m\u001b[1;33m.\u001b[0m\u001b[0mloc\u001b[0m\u001b[1;33m[\u001b[0m\u001b[1;33m:\u001b[0m\u001b[1;33m,\u001b[0m \u001b[0mdata_set\u001b[0m\u001b[1;33m[\u001b[0m\u001b[1;34m'field.date'\u001b[0m\u001b[1;33m,\u001b[0m \u001b[1;34m'field.location'\u001b[0m\u001b[1;33m,\u001b[0m \u001b[1;34m'field.state'\u001b[0m\u001b[1;33m,\u001b[0m \u001b[1;34m'field.coordinates'\u001b[0m\u001b[1;33m,\u001b[0m \u001b[1;34m'field.fatalities'\u001b[0m\u001b[1;33m,\u001b[0m \u001b[1;34m'field.injured'\u001b[0m\u001b[1;33m,\u001b[0m \u001b[1;34m'fields.type_of_weapons'\u001b[0m\u001b[1;33m]\u001b[0m\u001b[1;33m]\u001b[0m\u001b[1;33m\u001b[0m\u001b[1;33m\u001b[0m\u001b[0m\n\u001b[0m\u001b[0;32m      2\u001b[0m \u001b[0mclean_data\u001b[0m\u001b[1;33m\u001b[0m\u001b[1;33m\u001b[0m\u001b[0m\n",
      "\u001b[1;32m~\\anaconda3\\envs\\PythonData\\lib\\site-packages\\pandas\\core\\frame.py\u001b[0m in \u001b[0;36m__getitem__\u001b[1;34m(self, key)\u001b[0m\n\u001b[0;32m   2897\u001b[0m             \u001b[1;32mif\u001b[0m \u001b[0mself\u001b[0m\u001b[1;33m.\u001b[0m\u001b[0mcolumns\u001b[0m\u001b[1;33m.\u001b[0m\u001b[0mnlevels\u001b[0m \u001b[1;33m>\u001b[0m \u001b[1;36m1\u001b[0m\u001b[1;33m:\u001b[0m\u001b[1;33m\u001b[0m\u001b[1;33m\u001b[0m\u001b[0m\n\u001b[0;32m   2898\u001b[0m                 \u001b[1;32mreturn\u001b[0m \u001b[0mself\u001b[0m\u001b[1;33m.\u001b[0m\u001b[0m_getitem_multilevel\u001b[0m\u001b[1;33m(\u001b[0m\u001b[0mkey\u001b[0m\u001b[1;33m)\u001b[0m\u001b[1;33m\u001b[0m\u001b[1;33m\u001b[0m\u001b[0m\n\u001b[1;32m-> 2899\u001b[1;33m             \u001b[0mindexer\u001b[0m \u001b[1;33m=\u001b[0m \u001b[0mself\u001b[0m\u001b[1;33m.\u001b[0m\u001b[0mcolumns\u001b[0m\u001b[1;33m.\u001b[0m\u001b[0mget_loc\u001b[0m\u001b[1;33m(\u001b[0m\u001b[0mkey\u001b[0m\u001b[1;33m)\u001b[0m\u001b[1;33m\u001b[0m\u001b[1;33m\u001b[0m\u001b[0m\n\u001b[0m\u001b[0;32m   2900\u001b[0m             \u001b[1;32mif\u001b[0m \u001b[0mis_integer\u001b[0m\u001b[1;33m(\u001b[0m\u001b[0mindexer\u001b[0m\u001b[1;33m)\u001b[0m\u001b[1;33m:\u001b[0m\u001b[1;33m\u001b[0m\u001b[1;33m\u001b[0m\u001b[0m\n\u001b[0;32m   2901\u001b[0m                 \u001b[0mindexer\u001b[0m \u001b[1;33m=\u001b[0m \u001b[1;33m[\u001b[0m\u001b[0mindexer\u001b[0m\u001b[1;33m]\u001b[0m\u001b[1;33m\u001b[0m\u001b[1;33m\u001b[0m\u001b[0m\n",
      "\u001b[1;32m~\\anaconda3\\envs\\PythonData\\lib\\site-packages\\pandas\\core\\indexes\\base.py\u001b[0m in \u001b[0;36mget_loc\u001b[1;34m(self, key, method, tolerance)\u001b[0m\n\u001b[0;32m   2889\u001b[0m                 \u001b[1;32mreturn\u001b[0m \u001b[0mself\u001b[0m\u001b[1;33m.\u001b[0m\u001b[0m_engine\u001b[0m\u001b[1;33m.\u001b[0m\u001b[0mget_loc\u001b[0m\u001b[1;33m(\u001b[0m\u001b[0mcasted_key\u001b[0m\u001b[1;33m)\u001b[0m\u001b[1;33m\u001b[0m\u001b[1;33m\u001b[0m\u001b[0m\n\u001b[0;32m   2890\u001b[0m             \u001b[1;32mexcept\u001b[0m \u001b[0mKeyError\u001b[0m \u001b[1;32mas\u001b[0m \u001b[0merr\u001b[0m\u001b[1;33m:\u001b[0m\u001b[1;33m\u001b[0m\u001b[1;33m\u001b[0m\u001b[0m\n\u001b[1;32m-> 2891\u001b[1;33m                 \u001b[1;32mraise\u001b[0m \u001b[0mKeyError\u001b[0m\u001b[1;33m(\u001b[0m\u001b[0mkey\u001b[0m\u001b[1;33m)\u001b[0m \u001b[1;32mfrom\u001b[0m \u001b[0merr\u001b[0m\u001b[1;33m\u001b[0m\u001b[1;33m\u001b[0m\u001b[0m\n\u001b[0m\u001b[0;32m   2892\u001b[0m \u001b[1;33m\u001b[0m\u001b[0m\n\u001b[0;32m   2893\u001b[0m         \u001b[1;32mif\u001b[0m \u001b[0mtolerance\u001b[0m \u001b[1;32mis\u001b[0m \u001b[1;32mnot\u001b[0m \u001b[1;32mNone\u001b[0m\u001b[1;33m:\u001b[0m\u001b[1;33m\u001b[0m\u001b[1;33m\u001b[0m\u001b[0m\n",
      "\u001b[1;31mKeyError\u001b[0m: ('field.date', 'field.location', 'field.state', 'field.coordinates', 'field.fatalities', 'field.injured', 'fields.type_of_weapons')"
     ]
    }
   ],
   "source": [
    "clean_data = data_set.loc[:, data_set['field.date', 'field.location', 'field.state', 'field.coordinates', 'field.fatalities', 'field.injured', 'fields.type_of_weapons']]\n",
    "clean_data"
   ]
  },
  {
   "cell_type": "code",
   "execution_count": 111,
   "metadata": {
    "tags": []
   },
   "outputs": [
    {
     "output_type": "error",
     "ename": "TypeError",
     "evalue": "list indices must be integers or slices, not str",
     "traceback": [
      "\u001b[1;31m---------------------------------------------------------------------------\u001b[0m",
      "\u001b[1;31mTypeError\u001b[0m                                 Traceback (most recent call last)",
      "\u001b[1;32m<ipython-input-111-0578d6019040>\u001b[0m in \u001b[0;36m<module>\u001b[1;34m\u001b[0m\n\u001b[0;32m     13\u001b[0m     \u001b[1;32mtry\u001b[0m\u001b[1;33m:\u001b[0m\u001b[1;33m\u001b[0m\u001b[1;33m\u001b[0m\u001b[0m\n\u001b[0;32m     14\u001b[0m         \u001b[1;31m# city_name.append(resp[records][:]['fields'][:]['city'][:])\u001b[0m\u001b[1;33m\u001b[0m\u001b[1;33m\u001b[0m\u001b[1;33m\u001b[0m\u001b[0m\n\u001b[1;32m---> 15\u001b[1;33m         \u001b[0mlat\u001b[0m\u001b[1;33m.\u001b[0m\u001b[0mappend\u001b[0m\u001b[1;33m(\u001b[0m\u001b[0mresp\u001b[0m\u001b[1;33m[\u001b[0m\u001b[1;34m'records'\u001b[0m\u001b[1;33m]\u001b[0m\u001b[1;33m[\u001b[0m\u001b[1;36m0\u001b[0m\u001b[1;33m:\u001b[0m\u001b[1;33m]\u001b[0m\u001b[1;33m[\u001b[0m\u001b[1;34m'fields'\u001b[0m\u001b[1;33m]\u001b[0m\u001b[1;33m[\u001b[0m\u001b[1;34m'coordinates'\u001b[0m\u001b[1;33m]\u001b[0m\u001b[1;33m[\u001b[0m\u001b[1;36m0\u001b[0m\u001b[1;33m]\u001b[0m\u001b[1;33m)\u001b[0m\u001b[1;33m\u001b[0m\u001b[1;33m\u001b[0m\u001b[0m\n\u001b[0m\u001b[0;32m     16\u001b[0m         \u001b[1;31m# lng.append(resp['records']['fields']['longitude'])\u001b[0m\u001b[1;33m\u001b[0m\u001b[1;33m\u001b[0m\u001b[1;33m\u001b[0m\u001b[0m\n\u001b[0;32m     17\u001b[0m         \u001b[1;31m# state_name.append(resp['records']['fields'][0:]['state'][:])\u001b[0m\u001b[1;33m\u001b[0m\u001b[1;33m\u001b[0m\u001b[1;33m\u001b[0m\u001b[0m\n",
      "\u001b[1;31mTypeError\u001b[0m: list indices must be integers or slices, not str"
     ]
    }
   ],
   "source": [
    "states = ['Texas', 'California']\n",
    "city_name = []\n",
    "lat = []\n",
    "lng = []\n",
    "state_name = []\n",
    "number_killed = []\n",
    "number_wounded = []\n",
    "type_of_gun = []\n",
    "date = []\n",
    "for state in states:\n",
    "# for item in range(0, len(resp['records'])):\n",
    "    resp = requests.get(base_url, params = params).json()\n",
    "    try:\n",
    "        # city_name.append(resp[records][:]['fields'][:]['city'][:])\n",
    "        lat.append(resp['records'][0:]['fields']['coordinates'][0])\n",
    "        # lng.append(resp['records']['fields']['longitude'])\n",
    "        # state_name.append(resp['records']['fields'][0:]['state'][:])\n",
    "        # number_killed.append(resp['records']['fields']['total_number_of_fatalities'])\n",
    "        # number_wounded.append(resp['records']['fields']['number_of_victims_injured'])\n",
    "        # type_of_gun.append(resp['records']['fields']['type_of_gun_detailed'][:])\n",
    "        # date.append(resp['records']['fields']['date'])\n",
    "        # country_id.append(resp['records']['fields']['city'])\n",
    "        # print(f\"Processing Record {counter_record} of set {counter_set} | {city}\")\n",
    "    except (KeyError, IndexError):\n",
    "        print(\"City not found. Skipping...\")\n",
    "print(lat)\n",
    "# print(state_name)"
   ]
  },
  {
   "cell_type": "code",
   "execution_count": null,
   "metadata": {},
   "outputs": [],
   "source": [
    "    \n",
    "    city_list = []\n",
    "for rec in response:\n",
    "    resp = requests.get(base_url, params = params)\n",
    "    response = resp.json()\n",
    "    city_list.append(response['records']['fields']['city'])\n"
   ]
  },
  {
   "cell_type": "code",
   "execution_count": null,
   "metadata": {},
   "outputs": [],
   "source": [
    "shooting_dic = {\n",
    "    'date': '',\n",
    "    'city': '',\n",
    "    # 'State': '',\n",
    "    # 'Latitude': '',\n",
    "    # 'Longitude': '',\n",
    "    # 'Number Killed': '',\n",
    "    # 'Number Wounded': '',\n",
    "    # 'Type of Gun': ''\n",
    "}\n",
    "\n",
    "for k, v in shooting_dic:\n",
    "    resp = requests.get(base_url, params = params)\n",
    "    response = resp.json()\n",
    "    shooting_dic['date'].append(response['records']['fields']['date'])"
   ]
  },
  {
   "cell_type": "code",
   "execution_count": 77,
   "metadata": {},
   "outputs": [
    {
     "output_type": "execute_result",
     "data": {
      "text/plain": "   State  Year  Deaths  Population  Crude Rate\n0  Texas  1999    2084    20558220        10.1\n1  Texas  2000    2133    20851820        10.2\n2  Texas  2001    2308    21319622        10.8\n3  Texas  2002    2257    21690325        10.4\n4  Texas  2003    2381    22030931        10.8",
      "text/html": "<div>\n<style scoped>\n    .dataframe tbody tr th:only-of-type {\n        vertical-align: middle;\n    }\n\n    .dataframe tbody tr th {\n        vertical-align: top;\n    }\n\n    .dataframe thead th {\n        text-align: right;\n    }\n</style>\n<table border=\"1\" class=\"dataframe\">\n  <thead>\n    <tr style=\"text-align: right;\">\n      <th></th>\n      <th>State</th>\n      <th>Year</th>\n      <th>Deaths</th>\n      <th>Population</th>\n      <th>Crude Rate</th>\n    </tr>\n  </thead>\n  <tbody>\n    <tr>\n      <th>0</th>\n      <td>Texas</td>\n      <td>1999</td>\n      <td>2084</td>\n      <td>20558220</td>\n      <td>10.1</td>\n    </tr>\n    <tr>\n      <th>1</th>\n      <td>Texas</td>\n      <td>2000</td>\n      <td>2133</td>\n      <td>20851820</td>\n      <td>10.2</td>\n    </tr>\n    <tr>\n      <th>2</th>\n      <td>Texas</td>\n      <td>2001</td>\n      <td>2308</td>\n      <td>21319622</td>\n      <td>10.8</td>\n    </tr>\n    <tr>\n      <th>3</th>\n      <td>Texas</td>\n      <td>2002</td>\n      <td>2257</td>\n      <td>21690325</td>\n      <td>10.4</td>\n    </tr>\n    <tr>\n      <th>4</th>\n      <td>Texas</td>\n      <td>2003</td>\n      <td>2381</td>\n      <td>22030931</td>\n      <td>10.8</td>\n    </tr>\n  </tbody>\n</table>\n</div>"
     },
     "metadata": {},
     "execution_count": 77
    }
   ],
   "source": []
  },
  {
   "cell_type": "code",
   "execution_count": 82,
   "metadata": {},
   "outputs": [
    {
     "output_type": "execute_result",
     "data": {
      "text/plain": "           Date          City State   Latitude  Longitude  Number killed  \\\n227  2020-03-15       Moncure    NC  35.588419 -79.016475              6   \n228  2020-03-15   Springfield    MO  37.210283 -93.236766              4   \n229  2020-01-22     Vanceboro    NC  35.233589 -77.110482              4   \n230  2020-02-05  Indianapolis    IN  39.832988 -85.987690              4   \n231  2020-03-15   Springfield    MO  37.210283 -93.236766              4   \n\n     Number wounded Assault weapon OR high-capacity magazine  \\\n227               0                             Under review   \n228               2                             Under review   \n229               0                             Under review   \n230               0                             Under review   \n231               2                             Under review   \n\n    Prohibited shooter Killed intimate partner or family  \\\n227       Under review                      Under review   \n228       Under review                      Under review   \n229       Under review                      Under review   \n230       Under review                      Under review   \n231       Under review                      Under review   \n\n    Dangerous warning signs  \\\n227            Under review   \n228            Under review   \n229            Under review   \n230            Under review   \n231            Under review   \n\n                                             Narrative  Total shot  \\\n227  A man shot and killed his wife, went to his ne...           6   \n228  A man began firing shots while driving on the ...           6   \n229  A man shot and killed his wife, their three yo...           4   \n230  An unknown suspect shot and killed four young ...           4   \n231  A man began firing shots while driving on the ...           6   \n\n                 Last updated  \n227  2020-04-28T15:00:46.000Z  \n228  2020-04-28T15:00:46.000Z  \n229  2020-06-25T21:27:44.000Z  \n230  2020-06-25T21:27:50.000Z  \n231  2020-06-25T21:27:50.000Z  ",
      "text/html": "<div>\n<style scoped>\n    .dataframe tbody tr th:only-of-type {\n        vertical-align: middle;\n    }\n\n    .dataframe tbody tr th {\n        vertical-align: top;\n    }\n\n    .dataframe thead th {\n        text-align: right;\n    }\n</style>\n<table border=\"1\" class=\"dataframe\">\n  <thead>\n    <tr style=\"text-align: right;\">\n      <th></th>\n      <th>Date</th>\n      <th>City</th>\n      <th>State</th>\n      <th>Latitude</th>\n      <th>Longitude</th>\n      <th>Number killed</th>\n      <th>Number wounded</th>\n      <th>Assault weapon OR high-capacity magazine</th>\n      <th>Prohibited shooter</th>\n      <th>Killed intimate partner or family</th>\n      <th>Dangerous warning signs</th>\n      <th>Narrative</th>\n      <th>Total shot</th>\n      <th>Last updated</th>\n    </tr>\n  </thead>\n  <tbody>\n    <tr>\n      <th>227</th>\n      <td>2020-03-15</td>\n      <td>Moncure</td>\n      <td>NC</td>\n      <td>35.588419</td>\n      <td>-79.016475</td>\n      <td>6</td>\n      <td>0</td>\n      <td>Under review</td>\n      <td>Under review</td>\n      <td>Under review</td>\n      <td>Under review</td>\n      <td>A man shot and killed his wife, went to his ne...</td>\n      <td>6</td>\n      <td>2020-04-28T15:00:46.000Z</td>\n    </tr>\n    <tr>\n      <th>228</th>\n      <td>2020-03-15</td>\n      <td>Springfield</td>\n      <td>MO</td>\n      <td>37.210283</td>\n      <td>-93.236766</td>\n      <td>4</td>\n      <td>2</td>\n      <td>Under review</td>\n      <td>Under review</td>\n      <td>Under review</td>\n      <td>Under review</td>\n      <td>A man began firing shots while driving on the ...</td>\n      <td>6</td>\n      <td>2020-04-28T15:00:46.000Z</td>\n    </tr>\n    <tr>\n      <th>229</th>\n      <td>2020-01-22</td>\n      <td>Vanceboro</td>\n      <td>NC</td>\n      <td>35.233589</td>\n      <td>-77.110482</td>\n      <td>4</td>\n      <td>0</td>\n      <td>Under review</td>\n      <td>Under review</td>\n      <td>Under review</td>\n      <td>Under review</td>\n      <td>A man shot and killed his wife, their three yo...</td>\n      <td>4</td>\n      <td>2020-06-25T21:27:44.000Z</td>\n    </tr>\n    <tr>\n      <th>230</th>\n      <td>2020-02-05</td>\n      <td>Indianapolis</td>\n      <td>IN</td>\n      <td>39.832988</td>\n      <td>-85.987690</td>\n      <td>4</td>\n      <td>0</td>\n      <td>Under review</td>\n      <td>Under review</td>\n      <td>Under review</td>\n      <td>Under review</td>\n      <td>An unknown suspect shot and killed four young ...</td>\n      <td>4</td>\n      <td>2020-06-25T21:27:50.000Z</td>\n    </tr>\n    <tr>\n      <th>231</th>\n      <td>2020-03-15</td>\n      <td>Springfield</td>\n      <td>MO</td>\n      <td>37.210283</td>\n      <td>-93.236766</td>\n      <td>4</td>\n      <td>2</td>\n      <td>Under review</td>\n      <td>Under review</td>\n      <td>Under review</td>\n      <td>Under review</td>\n      <td>A man began firing shots while driving on the ...</td>\n      <td>6</td>\n      <td>2020-06-25T21:27:50.000Z</td>\n    </tr>\n  </tbody>\n</table>\n</div>"
     },
     "metadata": {},
     "execution_count": 82
    }
   ],
   "source": [
    "file_path = '../Resources/us_mass_shootings.csv'\n",
    "us_mass_shooting = pd.read_csv(file_path, skiprows=7)\n",
    "us_mass_shooting.tail()"
   ]
  },
  {
   "cell_type": "code",
   "execution_count": 83,
   "metadata": {},
   "outputs": [
    {
     "output_type": "execute_result",
     "data": {
      "text/plain": "          Date          City State   Latitude   Longitude  Number killed  \\\n0   2009-01-27    Wilmington    CA  33.783263 -118.254934              6   \n5   2009-03-21  East Oakland    CA  37.777688 -122.190217              4   \n7   2009-03-29   Santa Clara    CA  37.397970 -121.968242              5   \n15  2009-11-05     Fort Hood    TX  31.195006  -97.743503             13   \n22  2010-01-16     Bellville    TX  30.038827  -96.195849              5   \n\n    Number wounded Assault weapon OR high-capacity magazine  \n0                0                                       No  \n5                1                                      Yes  \n7                1                                       No  \n15              32                                      Yes  \n22               0                                      Yes  ",
      "text/html": "<div>\n<style scoped>\n    .dataframe tbody tr th:only-of-type {\n        vertical-align: middle;\n    }\n\n    .dataframe tbody tr th {\n        vertical-align: top;\n    }\n\n    .dataframe thead th {\n        text-align: right;\n    }\n</style>\n<table border=\"1\" class=\"dataframe\">\n  <thead>\n    <tr style=\"text-align: right;\">\n      <th></th>\n      <th>Date</th>\n      <th>City</th>\n      <th>State</th>\n      <th>Latitude</th>\n      <th>Longitude</th>\n      <th>Number killed</th>\n      <th>Number wounded</th>\n      <th>Assault weapon OR high-capacity magazine</th>\n    </tr>\n  </thead>\n  <tbody>\n    <tr>\n      <th>0</th>\n      <td>2009-01-27</td>\n      <td>Wilmington</td>\n      <td>CA</td>\n      <td>33.783263</td>\n      <td>-118.254934</td>\n      <td>6</td>\n      <td>0</td>\n      <td>No</td>\n    </tr>\n    <tr>\n      <th>5</th>\n      <td>2009-03-21</td>\n      <td>East Oakland</td>\n      <td>CA</td>\n      <td>37.777688</td>\n      <td>-122.190217</td>\n      <td>4</td>\n      <td>1</td>\n      <td>Yes</td>\n    </tr>\n    <tr>\n      <th>7</th>\n      <td>2009-03-29</td>\n      <td>Santa Clara</td>\n      <td>CA</td>\n      <td>37.397970</td>\n      <td>-121.968242</td>\n      <td>5</td>\n      <td>1</td>\n      <td>No</td>\n    </tr>\n    <tr>\n      <th>15</th>\n      <td>2009-11-05</td>\n      <td>Fort Hood</td>\n      <td>TX</td>\n      <td>31.195006</td>\n      <td>-97.743503</td>\n      <td>13</td>\n      <td>32</td>\n      <td>Yes</td>\n    </tr>\n    <tr>\n      <th>22</th>\n      <td>2010-01-16</td>\n      <td>Bellville</td>\n      <td>TX</td>\n      <td>30.038827</td>\n      <td>-96.195849</td>\n      <td>5</td>\n      <td>0</td>\n      <td>Yes</td>\n    </tr>\n  </tbody>\n</table>\n</div>"
     },
     "metadata": {},
     "execution_count": 83
    }
   ],
   "source": [
    "columns = ['Date', 'City', 'State', 'Latitude', 'Longitude', 'Number killed', 'Number wounded', 'Assault weapon OR high-capacity magazine']\n",
    "tx_vs_ca_df = us_mass_shooting.loc[(us_mass_shooting['State'] == 'TX')|(us_mass_shooting['State'] == 'CA'), columns]\n",
    "tx_vs_ca_df.head()"
   ]
  },
  {
   "cell_type": "code",
   "execution_count": null,
   "metadata": {},
   "outputs": [],
   "source": [
    "info_box_template = \"\"\"\n",
    "<dl>\n",
    "<dt>Date</dt><dd>{Date}</dd>\n",
    "<dt>City</dt><dd>{City}</dd>\n",
    "<dt>State</dt><dd>{State}</dd>\n",
    "</dl>\n",
    "\"\"\"\n",
    "gmaps.configure(api_key=g_key)\n",
    "figure_layout = {\n",
    "    'width': '400px',\n",
    "    'height': '420px',\n",
    "    'border': '1px solid black',\n",
    "    'padding': '1px'\n",
    "}\n",
    "gmaps.figure(center=(30.0, 31.0), zoom_level=2)\n",
    "city_info = [info_box_template.format(**row) for index, row in tx_vs_ca_df.iterrows()]\n",
    "locations = tx_vs_ca_df[[\"Latitude\", \"Longitude\"]]\n",
    "fig = gmaps.figure()\n",
    "marker_layer = gmaps.marker_layer(locations, info_box_content=city_info)\n",
    "fig.add_layer(marker_layer)\n",
    "fig"
   ]
  },
  {
   "cell_type": "code",
   "execution_count": 84,
   "metadata": {},
   "outputs": [
    {
     "output_type": "execute_result",
     "data": {
      "text/plain": "           Date             City State  Latitude  Longitude  Number killed  \\\n188  2018-10-13             Taft    TX   27.9790   -97.3900              4   \n198  2019-02-11        Blanchard    TX   30.7250   -95.0563              4   \n209  2019-08-03          El Paso    TX   31.7767  -106.3850             23   \n211  2019-08-31  Odessa, Midland    TX   31.9246  -102.2850              7   \n214  2019-09-29         Beaumont    TX   30.0473   -94.0855              4   \n\n     Number wounded Assault weapon OR high-capacity magazine  \\\n188               1                                       No   \n198               0                             Under review   \n209              23                             Under review   \n211              22                             Under review   \n214               0                             Under review   \n\n    Prohibited shooter Killed intimate partner or family  \\\n188                 No                                No   \n198       Under review                      Under review   \n209       Under review                      Under review   \n211       Under review                      Under review   \n214       Under review                      Under review   \n\n    Dangerous warning signs  \\\n188                      No   \n198            Under review   \n209            Under review   \n211            Under review   \n214            Under review   \n\n                                             Narrative  Total shot  \\\n188  Two shooters were at a child’s birthday party ...           5   \n198  A shooter shot and killed his wife, her grandp...           4   \n209  A shooter traveled to a Walmart and shot 46 pe...          46   \n211  A shooter shot and killed seven people and inj...          29   \n214  A shooter shot and killed four people in an ap...           4   \n\n                 Last updated  \n188  2019-11-12T14:45:16.000Z  \n198  2020-04-28T15:00:46.000Z  \n209  2020-04-28T15:00:46.000Z  \n211  2020-04-28T15:00:46.000Z  \n214  2020-04-28T15:00:46.000Z  ",
      "text/html": "<div>\n<style scoped>\n    .dataframe tbody tr th:only-of-type {\n        vertical-align: middle;\n    }\n\n    .dataframe tbody tr th {\n        vertical-align: top;\n    }\n\n    .dataframe thead th {\n        text-align: right;\n    }\n</style>\n<table border=\"1\" class=\"dataframe\">\n  <thead>\n    <tr style=\"text-align: right;\">\n      <th></th>\n      <th>Date</th>\n      <th>City</th>\n      <th>State</th>\n      <th>Latitude</th>\n      <th>Longitude</th>\n      <th>Number killed</th>\n      <th>Number wounded</th>\n      <th>Assault weapon OR high-capacity magazine</th>\n      <th>Prohibited shooter</th>\n      <th>Killed intimate partner or family</th>\n      <th>Dangerous warning signs</th>\n      <th>Narrative</th>\n      <th>Total shot</th>\n      <th>Last updated</th>\n    </tr>\n  </thead>\n  <tbody>\n    <tr>\n      <th>188</th>\n      <td>2018-10-13</td>\n      <td>Taft</td>\n      <td>TX</td>\n      <td>27.9790</td>\n      <td>-97.3900</td>\n      <td>4</td>\n      <td>1</td>\n      <td>No</td>\n      <td>No</td>\n      <td>No</td>\n      <td>No</td>\n      <td>Two shooters were at a child’s birthday party ...</td>\n      <td>5</td>\n      <td>2019-11-12T14:45:16.000Z</td>\n    </tr>\n    <tr>\n      <th>198</th>\n      <td>2019-02-11</td>\n      <td>Blanchard</td>\n      <td>TX</td>\n      <td>30.7250</td>\n      <td>-95.0563</td>\n      <td>4</td>\n      <td>0</td>\n      <td>Under review</td>\n      <td>Under review</td>\n      <td>Under review</td>\n      <td>Under review</td>\n      <td>A shooter shot and killed his wife, her grandp...</td>\n      <td>4</td>\n      <td>2020-04-28T15:00:46.000Z</td>\n    </tr>\n    <tr>\n      <th>209</th>\n      <td>2019-08-03</td>\n      <td>El Paso</td>\n      <td>TX</td>\n      <td>31.7767</td>\n      <td>-106.3850</td>\n      <td>23</td>\n      <td>23</td>\n      <td>Under review</td>\n      <td>Under review</td>\n      <td>Under review</td>\n      <td>Under review</td>\n      <td>A shooter traveled to a Walmart and shot 46 pe...</td>\n      <td>46</td>\n      <td>2020-04-28T15:00:46.000Z</td>\n    </tr>\n    <tr>\n      <th>211</th>\n      <td>2019-08-31</td>\n      <td>Odessa, Midland</td>\n      <td>TX</td>\n      <td>31.9246</td>\n      <td>-102.2850</td>\n      <td>7</td>\n      <td>22</td>\n      <td>Under review</td>\n      <td>Under review</td>\n      <td>Under review</td>\n      <td>Under review</td>\n      <td>A shooter shot and killed seven people and inj...</td>\n      <td>29</td>\n      <td>2020-04-28T15:00:46.000Z</td>\n    </tr>\n    <tr>\n      <th>214</th>\n      <td>2019-09-29</td>\n      <td>Beaumont</td>\n      <td>TX</td>\n      <td>30.0473</td>\n      <td>-94.0855</td>\n      <td>4</td>\n      <td>0</td>\n      <td>Under review</td>\n      <td>Under review</td>\n      <td>Under review</td>\n      <td>Under review</td>\n      <td>A shooter shot and killed four people in an ap...</td>\n      <td>4</td>\n      <td>2020-04-28T15:00:46.000Z</td>\n    </tr>\n  </tbody>\n</table>\n</div>"
     },
     "metadata": {},
     "execution_count": 84
    }
   ],
   "source": [
    "tx_df = us_mass_shooting.loc[us_mass_shooting['State'] == 'TX']\n",
    "tx_df.tail()"
   ]
  },
  {
   "cell_type": "code",
   "execution_count": null,
   "metadata": {},
   "outputs": [],
   "source": [
    "x_axis = tx_df['Date']                      \n",
    "y_axis = tx_df['Number killed']\n",
    "plt.bar(x_axis, y_axis)\n",
    "plt.xlabel('Years')\n",
    "plt.ylabel('Number of People Killed')\n",
    "plt.title('Texas Mass Shooting Last Ten Years')\n",
    "plt.show()"
   ]
  },
  {
   "cell_type": "code",
   "execution_count": null,
   "metadata": {},
   "outputs": [],
   "source": [
    "ca_df = us_mass_shooting.loc[us_mass_shooting['State'] == 'CA']\n",
    "ca_df.head()"
   ]
  },
  {
   "cell_type": "code",
   "execution_count": null,
   "metadata": {},
   "outputs": [],
   "source": [
    "x_axis = ca_df['Date']                      \n",
    "y_axis = ca_df['Number killed']\n",
    "plt.bar(x_axis, y_axis)\n",
    "plt.xlabel('Years')\n",
    "plt.ylabel('Number of People Killed')\n",
    "plt.title('California Mass Shooting Last Ten Years')\n",
    "plt.show()"
   ]
  },
  {
   "cell_type": "code",
   "execution_count": null,
   "metadata": {},
   "outputs": [],
   "source": [
    "state_comp = tx_vs_ca_df.loc[:, ['State', 'Number killed', 'Number wounded']]\n",
    "state_comp = state_comp.groupby('State').sum()\n",
    "\n",
    "state_comp"
   ]
  },
  {
   "cell_type": "code",
   "execution_count": null,
   "metadata": {},
   "outputs": [],
   "source": [
    "state_comp.plot.bar()\n",
    "plt.title('Texas vs California Mass Shooting Victims Last Ten Years')\n",
    "plt.xlabel('State')\n",
    "plt.ylabel('Total Number of People Killed and Wounded')\n",
    "plt.show()"
   ]
  },
  {
   "cell_type": "code",
   "execution_count": null,
   "metadata": {},
   "outputs": [],
   "source": []
  }
 ],
 "metadata": {
  "kernelspec": {
   "display_name": "Python 3.6.10 64-bit ('PythonData': conda)",
   "language": "python",
   "name": "python_defaultSpec_1598105441927"
  },
  "language_info": {
   "codemirror_mode": {
    "name": "ipython",
    "version": 3
   },
   "file_extension": ".py",
   "mimetype": "text/x-python",
   "name": "python",
   "nbconvert_exporter": "python",
   "pygments_lexer": "ipython3",
   "version": "3.6.10-final"
  }
 },
 "nbformat": 4,
 "nbformat_minor": 4
}