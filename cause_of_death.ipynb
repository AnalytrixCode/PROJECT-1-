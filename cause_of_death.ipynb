{
 "cells": [
  {
   "cell_type": "markdown",
   "metadata": {},
   "source": [
    "http://wonder.cdc.gov/wonder/help/mcd.html#2014-Revision."
   ]
  },
  {
   "cell_type": "code",
   "execution_count": 23,
   "metadata": {},
   "outputs": [],
   "source": [
    "import pandas as pd\n",
    "import os\n",
    "import matplotlib.pyplot as plt\n",
    "import scipy.stats as st\n",
    "from scipy.stats import linregress\n",
    "import numpy as np\n",
    "output_file = 'Resources/combined_data.csv'"
   ]
  },
  {
   "cell_type": "code",
   "execution_count": 11,
   "metadata": {},
   "outputs": [
    {
     "output_type": "execute_result",
     "data": {
      "text/plain": "        State  Year  Deaths  Population  Crude Rate\n0  California  1999    2959    33499204         8.8\n1  California  2000    3036    33871648         9.0\n2  California  2001    3136    34479458         9.1\n3  California  2002    3344    34871843         9.6\n4  California  2003    3355    35253159         9.5",
      "text/html": "<div>\n<style scoped>\n    .dataframe tbody tr th:only-of-type {\n        vertical-align: middle;\n    }\n\n    .dataframe tbody tr th {\n        vertical-align: top;\n    }\n\n    .dataframe thead th {\n        text-align: right;\n    }\n</style>\n<table border=\"1\" class=\"dataframe\">\n  <thead>\n    <tr style=\"text-align: right;\">\n      <th></th>\n      <th>State</th>\n      <th>Year</th>\n      <th>Deaths</th>\n      <th>Population</th>\n      <th>Crude Rate</th>\n    </tr>\n  </thead>\n  <tbody>\n    <tr>\n      <th>0</th>\n      <td>California</td>\n      <td>1999</td>\n      <td>2959</td>\n      <td>33499204</td>\n      <td>8.8</td>\n    </tr>\n    <tr>\n      <th>1</th>\n      <td>California</td>\n      <td>2000</td>\n      <td>3036</td>\n      <td>33871648</td>\n      <td>9.0</td>\n    </tr>\n    <tr>\n      <th>2</th>\n      <td>California</td>\n      <td>2001</td>\n      <td>3136</td>\n      <td>34479458</td>\n      <td>9.1</td>\n    </tr>\n    <tr>\n      <th>3</th>\n      <td>California</td>\n      <td>2002</td>\n      <td>3344</td>\n      <td>34871843</td>\n      <td>9.6</td>\n    </tr>\n    <tr>\n      <th>4</th>\n      <td>California</td>\n      <td>2003</td>\n      <td>3355</td>\n      <td>35253159</td>\n      <td>9.5</td>\n    </tr>\n  </tbody>\n</table>\n</div>"
     },
     "metadata": {},
     "execution_count": 11
    }
   ],
   "source": [
    "file_path_tx = 'Resources/Tx_cause_of_death_1999-2018.csv'\n",
    "file_path_ca = 'Resources/Ca_cause_of_death_1999-2018.csv'\n",
    "tx_death_by_year = pd.read_csv(file_path_tx)\n",
    "ca_death_by_year = pd.read_csv(file_path_ca)\n",
    "ca_death_by_year.head()"
   ]
  },
  {
   "cell_type": "code",
   "execution_count": 12,
   "metadata": {},
   "outputs": [
    {
     "output_type": "execute_result",
     "data": {
      "text/plain": "   State  Year  Deaths  Population  Crude Rate\n0  Texas  1999    2084    20558220        10.1\n1  Texas  2000    2133    20851820        10.2\n2  Texas  2001    2308    21319622        10.8\n3  Texas  2002    2257    21690325        10.4\n4  Texas  2003    2381    22030931        10.8",
      "text/html": "<div>\n<style scoped>\n    .dataframe tbody tr th:only-of-type {\n        vertical-align: middle;\n    }\n\n    .dataframe tbody tr th {\n        vertical-align: top;\n    }\n\n    .dataframe thead th {\n        text-align: right;\n    }\n</style>\n<table border=\"1\" class=\"dataframe\">\n  <thead>\n    <tr style=\"text-align: right;\">\n      <th></th>\n      <th>State</th>\n      <th>Year</th>\n      <th>Deaths</th>\n      <th>Population</th>\n      <th>Crude Rate</th>\n    </tr>\n  </thead>\n  <tbody>\n    <tr>\n      <th>0</th>\n      <td>Texas</td>\n      <td>1999</td>\n      <td>2084</td>\n      <td>20558220</td>\n      <td>10.1</td>\n    </tr>\n    <tr>\n      <th>1</th>\n      <td>Texas</td>\n      <td>2000</td>\n      <td>2133</td>\n      <td>20851820</td>\n      <td>10.2</td>\n    </tr>\n    <tr>\n      <th>2</th>\n      <td>Texas</td>\n      <td>2001</td>\n      <td>2308</td>\n      <td>21319622</td>\n      <td>10.8</td>\n    </tr>\n    <tr>\n      <th>3</th>\n      <td>Texas</td>\n      <td>2002</td>\n      <td>2257</td>\n      <td>21690325</td>\n      <td>10.4</td>\n    </tr>\n    <tr>\n      <th>4</th>\n      <td>Texas</td>\n      <td>2003</td>\n      <td>2381</td>\n      <td>22030931</td>\n      <td>10.8</td>\n    </tr>\n  </tbody>\n</table>\n</div>"
     },
     "metadata": {},
     "execution_count": 12
    }
   ],
   "source": [
    "tx_death_by_year.head()"
   ]
  },
  {
   "cell_type": "code",
   "execution_count": 20,
   "metadata": {},
   "outputs": [
    {
     "output_type": "execute_result",
     "data": {
      "text/plain": "   State_x  Year  Deaths_x  Population_x  Crude Rate_x     State_y  Deaths_y  \\\n0    Texas  1999      2084      20558220          10.1  California      2959   \n1    Texas  2000      2133      20851820          10.2  California      3036   \n2    Texas  2001      2308      21319622          10.8  California      3136   \n3    Texas  2002      2257      21690325          10.4  California      3344   \n4    Texas  2003      2381      22030931          10.8  California      3355   \n5    Texas  2004      2304      22394023          10.3  California      3224   \n6    Texas  2005      2452      22778123          10.8  California      3353   \n7    Texas  2006      2389      23359580          10.2  California      3270   \n8    Texas  2007      2518      23831983          10.6  California      3166   \n9    Texas  2008      2558      24309039          10.5  California      3084   \n10   Texas  2009      2641      24801761          10.6  California      3010   \n11   Texas  2010      2669      25145561          10.6  California      2858   \n12   Texas  2011      2553      25674681           9.9  California      2904   \n13   Texas  2012      2683      26059203          10.3  California      2941   \n14   Texas  2013      2730      26448193          10.3  California      2918   \n15   Texas  2014      2794      26956958          10.4  California      2838   \n16   Texas  2015      3147      27469114          11.5  California      2984   \n17   Texas  2016      3285      27862596          11.8  California      3098   \n18   Texas  2017      3444      28304596          12.2  California      3083   \n19   Texas  2018      3445      28701845          12.0  California      2938   \n\n    Population_y  Crude Rate_y  \n0       33499204           8.8  \n1       33871648           9.0  \n2       34479458           9.1  \n3       34871843           9.6  \n4       35253159           9.5  \n5       35574576           9.1  \n6       35827943           9.4  \n7       36021202           9.1  \n8       36250311           8.7  \n9       36604337           8.4  \n10      36961229           8.1  \n11      37253956           7.7  \n12      37691912           7.7  \n13      38041430           7.7  \n14      38332521           7.6  \n15      38802500           7.3  \n16      39144818           7.6  \n17      39250017           7.9  \n18      39536653           7.8  \n19      39557045           7.4  ",
      "text/html": "<div>\n<style scoped>\n    .dataframe tbody tr th:only-of-type {\n        vertical-align: middle;\n    }\n\n    .dataframe tbody tr th {\n        vertical-align: top;\n    }\n\n    .dataframe thead th {\n        text-align: right;\n    }\n</style>\n<table border=\"1\" class=\"dataframe\">\n  <thead>\n    <tr style=\"text-align: right;\">\n      <th></th>\n      <th>State_x</th>\n      <th>Year</th>\n      <th>Deaths_x</th>\n      <th>Population_x</th>\n      <th>Crude Rate_x</th>\n      <th>State_y</th>\n      <th>Deaths_y</th>\n      <th>Population_y</th>\n      <th>Crude Rate_y</th>\n    </tr>\n  </thead>\n  <tbody>\n    <tr>\n      <th>0</th>\n      <td>Texas</td>\n      <td>1999</td>\n      <td>2084</td>\n      <td>20558220</td>\n      <td>10.1</td>\n      <td>California</td>\n      <td>2959</td>\n      <td>33499204</td>\n      <td>8.8</td>\n    </tr>\n    <tr>\n      <th>1</th>\n      <td>Texas</td>\n      <td>2000</td>\n      <td>2133</td>\n      <td>20851820</td>\n      <td>10.2</td>\n      <td>California</td>\n      <td>3036</td>\n      <td>33871648</td>\n      <td>9.0</td>\n    </tr>\n    <tr>\n      <th>2</th>\n      <td>Texas</td>\n      <td>2001</td>\n      <td>2308</td>\n      <td>21319622</td>\n      <td>10.8</td>\n      <td>California</td>\n      <td>3136</td>\n      <td>34479458</td>\n      <td>9.1</td>\n    </tr>\n    <tr>\n      <th>3</th>\n      <td>Texas</td>\n      <td>2002</td>\n      <td>2257</td>\n      <td>21690325</td>\n      <td>10.4</td>\n      <td>California</td>\n      <td>3344</td>\n      <td>34871843</td>\n      <td>9.6</td>\n    </tr>\n    <tr>\n      <th>4</th>\n      <td>Texas</td>\n      <td>2003</td>\n      <td>2381</td>\n      <td>22030931</td>\n      <td>10.8</td>\n      <td>California</td>\n      <td>3355</td>\n      <td>35253159</td>\n      <td>9.5</td>\n    </tr>\n    <tr>\n      <th>5</th>\n      <td>Texas</td>\n      <td>2004</td>\n      <td>2304</td>\n      <td>22394023</td>\n      <td>10.3</td>\n      <td>California</td>\n      <td>3224</td>\n      <td>35574576</td>\n      <td>9.1</td>\n    </tr>\n    <tr>\n      <th>6</th>\n      <td>Texas</td>\n      <td>2005</td>\n      <td>2452</td>\n      <td>22778123</td>\n      <td>10.8</td>\n      <td>California</td>\n      <td>3353</td>\n      <td>35827943</td>\n      <td>9.4</td>\n    </tr>\n    <tr>\n      <th>7</th>\n      <td>Texas</td>\n      <td>2006</td>\n      <td>2389</td>\n      <td>23359580</td>\n      <td>10.2</td>\n      <td>California</td>\n      <td>3270</td>\n      <td>36021202</td>\n      <td>9.1</td>\n    </tr>\n    <tr>\n      <th>8</th>\n      <td>Texas</td>\n      <td>2007</td>\n      <td>2518</td>\n      <td>23831983</td>\n      <td>10.6</td>\n      <td>California</td>\n      <td>3166</td>\n      <td>36250311</td>\n      <td>8.7</td>\n    </tr>\n    <tr>\n      <th>9</th>\n      <td>Texas</td>\n      <td>2008</td>\n      <td>2558</td>\n      <td>24309039</td>\n      <td>10.5</td>\n      <td>California</td>\n      <td>3084</td>\n      <td>36604337</td>\n      <td>8.4</td>\n    </tr>\n    <tr>\n      <th>10</th>\n      <td>Texas</td>\n      <td>2009</td>\n      <td>2641</td>\n      <td>24801761</td>\n      <td>10.6</td>\n      <td>California</td>\n      <td>3010</td>\n      <td>36961229</td>\n      <td>8.1</td>\n    </tr>\n    <tr>\n      <th>11</th>\n      <td>Texas</td>\n      <td>2010</td>\n      <td>2669</td>\n      <td>25145561</td>\n      <td>10.6</td>\n      <td>California</td>\n      <td>2858</td>\n      <td>37253956</td>\n      <td>7.7</td>\n    </tr>\n    <tr>\n      <th>12</th>\n      <td>Texas</td>\n      <td>2011</td>\n      <td>2553</td>\n      <td>25674681</td>\n      <td>9.9</td>\n      <td>California</td>\n      <td>2904</td>\n      <td>37691912</td>\n      <td>7.7</td>\n    </tr>\n    <tr>\n      <th>13</th>\n      <td>Texas</td>\n      <td>2012</td>\n      <td>2683</td>\n      <td>26059203</td>\n      <td>10.3</td>\n      <td>California</td>\n      <td>2941</td>\n      <td>38041430</td>\n      <td>7.7</td>\n    </tr>\n    <tr>\n      <th>14</th>\n      <td>Texas</td>\n      <td>2013</td>\n      <td>2730</td>\n      <td>26448193</td>\n      <td>10.3</td>\n      <td>California</td>\n      <td>2918</td>\n      <td>38332521</td>\n      <td>7.6</td>\n    </tr>\n    <tr>\n      <th>15</th>\n      <td>Texas</td>\n      <td>2014</td>\n      <td>2794</td>\n      <td>26956958</td>\n      <td>10.4</td>\n      <td>California</td>\n      <td>2838</td>\n      <td>38802500</td>\n      <td>7.3</td>\n    </tr>\n    <tr>\n      <th>16</th>\n      <td>Texas</td>\n      <td>2015</td>\n      <td>3147</td>\n      <td>27469114</td>\n      <td>11.5</td>\n      <td>California</td>\n      <td>2984</td>\n      <td>39144818</td>\n      <td>7.6</td>\n    </tr>\n    <tr>\n      <th>17</th>\n      <td>Texas</td>\n      <td>2016</td>\n      <td>3285</td>\n      <td>27862596</td>\n      <td>11.8</td>\n      <td>California</td>\n      <td>3098</td>\n      <td>39250017</td>\n      <td>7.9</td>\n    </tr>\n    <tr>\n      <th>18</th>\n      <td>Texas</td>\n      <td>2017</td>\n      <td>3444</td>\n      <td>28304596</td>\n      <td>12.2</td>\n      <td>California</td>\n      <td>3083</td>\n      <td>39536653</td>\n      <td>7.8</td>\n    </tr>\n    <tr>\n      <th>19</th>\n      <td>Texas</td>\n      <td>2018</td>\n      <td>3445</td>\n      <td>28701845</td>\n      <td>12.0</td>\n      <td>California</td>\n      <td>2938</td>\n      <td>39557045</td>\n      <td>7.4</td>\n    </tr>\n  </tbody>\n</table>\n</div>"
     },
     "metadata": {},
     "execution_count": 20
    }
   ],
   "source": [
    "comp_file = pd.merge(tx_death_by_year, ca_death_by_year, how='left', on=['Year'])\n",
    "comp_file"
   ]
  },
  {
   "cell_type": "code",
   "execution_count": 24,
   "metadata": {},
   "outputs": [],
   "source": [
    "comp_file.to_csv(output_file, index=False)"
   ]
  },
  {
   "cell_type": "code",
   "execution_count": null,
   "metadata": {},
   "outputs": [],
   "source": []
  }
 ],
 "metadata": {
  "kernelspec": {
   "name": "python_defaultSpec_1598156566374",
   "display_name": "Python 3.6.10 64-bit ('PythonData': conda)"
  }
 },
 "nbformat": 4,
 "nbformat_minor": 4
}