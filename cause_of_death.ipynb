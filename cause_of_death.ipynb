{
 "cells": [
  {
   "cell_type": "code",
   "execution_count": 2,
   "metadata": {},
   "outputs": [],
   "source": [
    "import pandas as pd\n",
    "import os\n",
    "import matplotlib.pyplot as plt\n",
    "import scipy.stats as st\n",
    "from scipy.stats import linregress\n",
    "import numpy as np"
   ]
  },
  {
   "cell_type": "code",
   "execution_count": 11,
   "metadata": {},
   "outputs": [
    {
     "output_type": "execute_result",
     "data": {
      "text/plain": "        State  Year  Deaths  Population  Crude Rate\n0  California  1999    2959    33499204         8.8\n1  California  2000    3036    33871648         9.0\n2  California  2001    3136    34479458         9.1\n3  California  2002    3344    34871843         9.6\n4  California  2003    3355    35253159         9.5",
      "text/html": "<div>\n<style scoped>\n    .dataframe tbody tr th:only-of-type {\n        vertical-align: middle;\n    }\n\n    .dataframe tbody tr th {\n        vertical-align: top;\n    }\n\n    .dataframe thead th {\n        text-align: right;\n    }\n</style>\n<table border=\"1\" class=\"dataframe\">\n  <thead>\n    <tr style=\"text-align: right;\">\n      <th></th>\n      <th>State</th>\n      <th>Year</th>\n      <th>Deaths</th>\n      <th>Population</th>\n      <th>Crude Rate</th>\n    </tr>\n  </thead>\n  <tbody>\n    <tr>\n      <th>0</th>\n      <td>California</td>\n      <td>1999</td>\n      <td>2959</td>\n      <td>33499204</td>\n      <td>8.8</td>\n    </tr>\n    <tr>\n      <th>1</th>\n      <td>California</td>\n      <td>2000</td>\n      <td>3036</td>\n      <td>33871648</td>\n      <td>9.0</td>\n    </tr>\n    <tr>\n      <th>2</th>\n      <td>California</td>\n      <td>2001</td>\n      <td>3136</td>\n      <td>34479458</td>\n      <td>9.1</td>\n    </tr>\n    <tr>\n      <th>3</th>\n      <td>California</td>\n      <td>2002</td>\n      <td>3344</td>\n      <td>34871843</td>\n      <td>9.6</td>\n    </tr>\n    <tr>\n      <th>4</th>\n      <td>California</td>\n      <td>2003</td>\n      <td>3355</td>\n      <td>35253159</td>\n      <td>9.5</td>\n    </tr>\n  </tbody>\n</table>\n</div>"
     },
     "metadata": {},
     "execution_count": 11
    }
   ],
   "source": [
    "file_path_tx = 'Resources/Tx_cause_of_death_1999-2018.csv'\n",
    "file_path_ca = 'Resources/Ca_cause_of_death_1999-2018.csv'\n",
    "tx_death_by_year = pd.read_csv(file_path_tx)\n",
    "ca_death_by_year = pd.read_csv(file_path_ca)\n",
    "ca_death_by_year.head()"
   ]
  },
  {
   "cell_type": "code",
   "execution_count": 12,
   "metadata": {},
   "outputs": [
    {
     "output_type": "execute_result",
     "data": {
      "text/plain": "   State  Year  Deaths  Population  Crude Rate\n0  Texas  1999    2084    20558220        10.1\n1  Texas  2000    2133    20851820        10.2\n2  Texas  2001    2308    21319622        10.8\n3  Texas  2002    2257    21690325        10.4\n4  Texas  2003    2381    22030931        10.8",
      "text/html": "<div>\n<style scoped>\n    .dataframe tbody tr th:only-of-type {\n        vertical-align: middle;\n    }\n\n    .dataframe tbody tr th {\n        vertical-align: top;\n    }\n\n    .dataframe thead th {\n        text-align: right;\n    }\n</style>\n<table border=\"1\" class=\"dataframe\">\n  <thead>\n    <tr style=\"text-align: right;\">\n      <th></th>\n      <th>State</th>\n      <th>Year</th>\n      <th>Deaths</th>\n      <th>Population</th>\n      <th>Crude Rate</th>\n    </tr>\n  </thead>\n  <tbody>\n    <tr>\n      <th>0</th>\n      <td>Texas</td>\n      <td>1999</td>\n      <td>2084</td>\n      <td>20558220</td>\n      <td>10.1</td>\n    </tr>\n    <tr>\n      <th>1</th>\n      <td>Texas</td>\n      <td>2000</td>\n      <td>2133</td>\n      <td>20851820</td>\n      <td>10.2</td>\n    </tr>\n    <tr>\n      <th>2</th>\n      <td>Texas</td>\n      <td>2001</td>\n      <td>2308</td>\n      <td>21319622</td>\n      <td>10.8</td>\n    </tr>\n    <tr>\n      <th>3</th>\n      <td>Texas</td>\n      <td>2002</td>\n      <td>2257</td>\n      <td>21690325</td>\n      <td>10.4</td>\n    </tr>\n    <tr>\n      <th>4</th>\n      <td>Texas</td>\n      <td>2003</td>\n      <td>2381</td>\n      <td>22030931</td>\n      <td>10.8</td>\n    </tr>\n  </tbody>\n</table>\n</div>"
     },
     "metadata": {},
     "execution_count": 12
    }
   ],
   "source": [
    "tx_death_by_year.head()"
   ]
  },
  {
   "cell_type": "code",
   "execution_count": null,
   "metadata": {},
   "outputs": [],
   "source": []
  }
 ],
 "metadata": {
  "kernelspec": {
   "name": "python_defaultSpec_1598156566374",
   "display_name": "Python 3.6.10 64-bit ('PythonData': conda)"
  }
 },
 "nbformat": 4,
 "nbformat_minor": 4
}